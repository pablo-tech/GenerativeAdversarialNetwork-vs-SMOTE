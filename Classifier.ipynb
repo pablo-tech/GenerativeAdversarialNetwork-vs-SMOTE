{
 "cells": [
  {
   "cell_type": "markdown",
   "metadata": {},
   "source": [
    "# Training for Full"
   ]
  },
  {
   "cell_type": "code",
   "execution_count": 20,
   "metadata": {},
   "outputs": [],
   "source": [
    "from __future__ import print_function\n",
    "import keras\n",
    "from keras.datasets import cifar10\n",
    "from keras.preprocessing.image import ImageDataGenerator\n",
    "from tensorflow.keras.models import Sequential\n",
    "from tensorflow.keras.layers import Dense, Dropout, Activation, Flatten\n",
    "from tensorflow.keras.layers import Conv2D, MaxPooling2D\n",
    "import tensorflow\n",
    "import os\n",
    "import numpy as np\n",
    "import matplotlib.pyplot as plt "
   ]
  },
  {
   "cell_type": "code",
   "execution_count": 21,
   "metadata": {},
   "outputs": [],
   "source": [
    "#Define some parameters\n",
    "batch_size = 32\n",
    "num_classes = 10\n",
    "epochs = 50\n",
    "num_predictions = 20"
   ]
  },
  {
   "cell_type": "code",
   "execution_count": 22,
   "metadata": {},
   "outputs": [
    {
     "name": "stdout",
     "output_type": "stream",
     "text": [
      "x_train shape: (50000, 32, 32, 3)\n",
      "50000 train samples\n",
      "10000 test samples\n"
     ]
    }
   ],
   "source": [
    "#Load in the data\n",
    "(x_train, y_train), (x_test, y_test) = cifar10.load_data()\n",
    "print('x_train shape:', x_train.shape)\n",
    "print(x_train.shape[0], 'train samples')\n",
    "print(x_test.shape[0], 'test samples')\n",
    "\n",
    "#Convert class vectors to binary class matrices.\n",
    "y_train = keras.utils.to_categorical(y_train, num_classes)\n",
    "y_test = keras.utils.to_categorical(y_test, num_classes)"
   ]
  },
  {
   "cell_type": "code",
   "execution_count": 23,
   "metadata": {},
   "outputs": [],
   "source": [
    "#Set up the model\n",
    "model = Sequential()\n",
    "model.add(Conv2D(32, (3, 3), padding='same',\n",
    "                 input_shape=x_train.shape[1:]))\n",
    "model.add(Activation('relu'))\n",
    "model.add(Conv2D(32, (3, 3)))\n",
    "model.add(Activation('relu'))\n",
    "model.add(MaxPooling2D(pool_size=(2, 2)))\n",
    "model.add(Dropout(0.25))\n",
    "\n",
    "model.add(Conv2D(64, (3, 3), padding='same'))\n",
    "model.add(Activation('relu'))\n",
    "model.add(Conv2D(64, (3, 3)))\n",
    "model.add(Activation('relu'))\n",
    "model.add(MaxPooling2D(pool_size=(2, 2)))\n",
    "model.add(Dropout(0.25))\n",
    "\n",
    "model.add(Flatten())\n",
    "model.add(Dense(512))\n",
    "model.add(Activation('relu'))\n",
    "model.add(Dropout(0.5))\n",
    "model.add(Dense(num_classes))\n",
    "model.add(Activation('softmax'))\n",
    "\n",
    "# initiate RMSprop optimizer\n",
    "opt = tensorflow.keras.optimizers.RMSprop(lr=0.0001, decay=1e-6)"
   ]
  },
  {
   "cell_type": "code",
   "execution_count": 8,
   "metadata": {
    "scrolled": true
   },
   "outputs": [
    {
     "name": "stdout",
     "output_type": "stream",
     "text": [
      "Train on 50000 samples, validate on 10000 samples\n",
      "Epoch 1/50\n",
      "50000/50000 [==============================] - 87s 2ms/sample - loss: 1.8349 - acc: 0.3242 - val_loss: 1.5792 - val_acc: 0.4340\n",
      "Epoch 2/50\n",
      "50000/50000 [==============================] - 86s 2ms/sample - loss: 1.5252 - acc: 0.4444 - val_loss: 1.4434 - val_acc: 0.4824\n",
      "Epoch 3/50\n",
      "50000/50000 [==============================] - 85s 2ms/sample - loss: 1.3803 - acc: 0.5009 - val_loss: 1.2453 - val_acc: 0.5563\n",
      "Epoch 4/50\n",
      "50000/50000 [==============================] - 87s 2ms/sample - loss: 1.2769 - acc: 0.5444 - val_loss: 1.1679 - val_acc: 0.5848\n",
      "Epoch 5/50\n",
      "50000/50000 [==============================] - 86s 2ms/sample - loss: 1.1896 - acc: 0.5802 - val_loss: 1.1712 - val_acc: 0.5987\n",
      "Epoch 6/50\n",
      "50000/50000 [==============================] - 86s 2ms/sample - loss: 1.1181 - acc: 0.6060 - val_loss: 1.0320 - val_acc: 0.6378\n",
      "Epoch 7/50\n",
      "50000/50000 [==============================] - 87s 2ms/sample - loss: 1.0597 - acc: 0.6280 - val_loss: 0.9657 - val_acc: 0.6610\n",
      "Epoch 8/50\n",
      "50000/50000 [==============================] - 87s 2ms/sample - loss: 1.0127 - acc: 0.6458 - val_loss: 0.9629 - val_acc: 0.6605\n",
      "Epoch 9/50\n",
      "50000/50000 [==============================] - 85s 2ms/sample - loss: 0.9646 - acc: 0.6626 - val_loss: 0.9055 - val_acc: 0.6797\n",
      "Epoch 10/50\n",
      "50000/50000 [==============================] - 84s 2ms/sample - loss: 0.9249 - acc: 0.6772 - val_loss: 0.8945 - val_acc: 0.6898\n",
      "Epoch 11/50\n",
      "50000/50000 [==============================] - 87s 2ms/sample - loss: 0.8917 - acc: 0.6890 - val_loss: 0.8366 - val_acc: 0.7104\n",
      "Epoch 12/50\n",
      "50000/50000 [==============================] - 86s 2ms/sample - loss: 0.8660 - acc: 0.7005 - val_loss: 0.8311 - val_acc: 0.7132\n",
      "Epoch 13/50\n",
      "50000/50000 [==============================] - 86s 2ms/sample - loss: 0.8433 - acc: 0.7040 - val_loss: 0.7979 - val_acc: 0.7267\n",
      "Epoch 14/50\n",
      "50000/50000 [==============================] - 86s 2ms/sample - loss: 0.8206 - acc: 0.7155 - val_loss: 0.8057 - val_acc: 0.7240\n",
      "Epoch 15/50\n",
      "50000/50000 [==============================] - 84s 2ms/sample - loss: 0.8033 - acc: 0.7218 - val_loss: 0.7872 - val_acc: 0.7288\n",
      "Epoch 16/50\n",
      "50000/50000 [==============================] - 88s 2ms/sample - loss: 0.7851 - acc: 0.7247 - val_loss: 0.7874 - val_acc: 0.7330\n",
      "Epoch 17/50\n",
      "50000/50000 [==============================] - 86s 2ms/sample - loss: 0.7687 - acc: 0.7360 - val_loss: 0.7446 - val_acc: 0.7443\n",
      "Epoch 18/50\n",
      "50000/50000 [==============================] - 86s 2ms/sample - loss: 0.7610 - acc: 0.7355 - val_loss: 0.7568 - val_acc: 0.7380\n",
      "Epoch 19/50\n",
      "50000/50000 [==============================] - 86s 2ms/sample - loss: 0.7479 - acc: 0.7405 - val_loss: 0.7301 - val_acc: 0.7487\n",
      "Epoch 20/50\n",
      "50000/50000 [==============================] - 84s 2ms/sample - loss: 0.7361 - acc: 0.7449 - val_loss: 0.7108 - val_acc: 0.7544\n",
      "Epoch 21/50\n",
      "50000/50000 [==============================] - 86s 2ms/sample - loss: 0.7285 - acc: 0.7500 - val_loss: 0.7000 - val_acc: 0.7582\n",
      "Epoch 22/50\n",
      "50000/50000 [==============================] - 85s 2ms/sample - loss: 0.7217 - acc: 0.7503 - val_loss: 0.7030 - val_acc: 0.7548\n",
      "Epoch 23/50\n",
      "50000/50000 [==============================] - 85s 2ms/sample - loss: 0.7136 - acc: 0.7530 - val_loss: 0.7021 - val_acc: 0.7579\n",
      "Epoch 24/50\n",
      "50000/50000 [==============================] - 85s 2ms/sample - loss: 0.7102 - acc: 0.7575 - val_loss: 0.6968 - val_acc: 0.7629\n",
      "Epoch 25/50\n",
      "50000/50000 [==============================] - 86s 2ms/sample - loss: 0.7022 - acc: 0.7604 - val_loss: 0.6803 - val_acc: 0.7643\n",
      "Epoch 26/50\n",
      "50000/50000 [==============================] - 85s 2ms/sample - loss: 0.6963 - acc: 0.7640 - val_loss: 0.7078 - val_acc: 0.7562\n",
      "Epoch 27/50\n",
      "50000/50000 [==============================] - 85s 2ms/sample - loss: 0.6934 - acc: 0.7638 - val_loss: 0.6890 - val_acc: 0.7656\n",
      "Epoch 28/50\n",
      "50000/50000 [==============================] - 85s 2ms/sample - loss: 0.6883 - acc: 0.7659 - val_loss: 0.6825 - val_acc: 0.7686\n",
      "Epoch 29/50\n",
      "50000/50000 [==============================] - 84s 2ms/sample - loss: 0.6833 - acc: 0.7679 - val_loss: 0.6800 - val_acc: 0.7633\n",
      "Epoch 30/50\n",
      "50000/50000 [==============================] - 84s 2ms/sample - loss: 0.6857 - acc: 0.7682 - val_loss: 0.7186 - val_acc: 0.7595\n",
      "Epoch 31/50\n",
      "50000/50000 [==============================] - 86s 2ms/sample - loss: 0.6794 - acc: 0.7708 - val_loss: 0.6677 - val_acc: 0.7694\n",
      "Epoch 32/50\n",
      "50000/50000 [==============================] - 85s 2ms/sample - loss: 0.6744 - acc: 0.7720 - val_loss: 0.6918 - val_acc: 0.7654\n",
      "Epoch 33/50\n",
      "50000/50000 [==============================] - 86s 2ms/sample - loss: 0.6661 - acc: 0.7736 - val_loss: 0.6643 - val_acc: 0.7767\n",
      "Epoch 34/50\n",
      "50000/50000 [==============================] - 84s 2ms/sample - loss: 0.6674 - acc: 0.7743 - val_loss: 0.6544 - val_acc: 0.7755\n",
      "Epoch 35/50\n",
      "50000/50000 [==============================] - 87s 2ms/sample - loss: 0.6624 - acc: 0.7771 - val_loss: 0.6560 - val_acc: 0.7762\n",
      "Epoch 36/50\n",
      "50000/50000 [==============================] - 86s 2ms/sample - loss: 0.6581 - acc: 0.7790 - val_loss: 0.6773 - val_acc: 0.7704\n",
      "Epoch 37/50\n",
      "50000/50000 [==============================] - 86s 2ms/sample - loss: 0.6551 - acc: 0.7791 - val_loss: 0.7183 - val_acc: 0.7632\n",
      "Epoch 38/50\n",
      "50000/50000 [==============================] - 86s 2ms/sample - loss: 0.6526 - acc: 0.7789 - val_loss: 0.6519 - val_acc: 0.7801\n",
      "Epoch 39/50\n",
      "50000/50000 [==============================] - 85s 2ms/sample - loss: 0.6535 - acc: 0.7796 - val_loss: 0.6786 - val_acc: 0.7786\n",
      "Epoch 40/50\n",
      "50000/50000 [==============================] - 85s 2ms/sample - loss: 0.6509 - acc: 0.7811 - val_loss: 0.6508 - val_acc: 0.7807\n",
      "Epoch 41/50\n",
      "50000/50000 [==============================] - 85s 2ms/sample - loss: 0.6469 - acc: 0.7829 - val_loss: 0.6621 - val_acc: 0.7823\n",
      "Epoch 42/50\n",
      "50000/50000 [==============================] - 87s 2ms/sample - loss: 0.6415 - acc: 0.7835 - val_loss: 0.6790 - val_acc: 0.7743\n",
      "Epoch 43/50\n",
      "50000/50000 [==============================] - 85s 2ms/sample - loss: 0.6396 - acc: 0.7846 - val_loss: 0.6387 - val_acc: 0.7877\n",
      "Epoch 44/50\n",
      "50000/50000 [==============================] - 87s 2ms/sample - loss: 0.6428 - acc: 0.7849 - val_loss: 0.6545 - val_acc: 0.7823\n",
      "Epoch 45/50\n",
      "50000/50000 [==============================] - 86s 2ms/sample - loss: 0.6385 - acc: 0.7858 - val_loss: 0.6399 - val_acc: 0.7810\n",
      "Epoch 46/50\n",
      "50000/50000 [==============================] - 85s 2ms/sample - loss: 0.6383 - acc: 0.7873 - val_loss: 0.6457 - val_acc: 0.7851\n",
      "Epoch 47/50\n",
      "50000/50000 [==============================] - 86s 2ms/sample - loss: 0.6332 - acc: 0.7866 - val_loss: 0.6692 - val_acc: 0.7767\n",
      "Epoch 48/50\n",
      "50000/50000 [==============================] - 84s 2ms/sample - loss: 0.6317 - acc: 0.7889 - val_loss: 0.7122 - val_acc: 0.7803\n",
      "Epoch 49/50\n",
      "50000/50000 [==============================] - 85s 2ms/sample - loss: 0.6339 - acc: 0.7912 - val_loss: 0.6497 - val_acc: 0.7868\n",
      "Epoch 50/50\n",
      "50000/50000 [==============================] - 85s 2ms/sample - loss: 0.6272 - acc: 0.7905 - val_loss: 0.6651 - val_acc: 0.7785\n"
     ]
    }
   ],
   "source": [
    "# Let's train the model using RMSprop\n",
    "model.compile(loss='categorical_crossentropy',\n",
    "              optimizer=opt,\n",
    "              metrics=['accuracy'])\n",
    "\n",
    "x_train = x_train.astype('float32')\n",
    "x_test = x_test.astype('float32')\n",
    "x_train /= 255\n",
    "x_test /= 255\n",
    "\n",
    "historyFull = model.fit(x_train, y_train, batch_size=batch_size, epochs=epochs, validation_data=(x_test, y_test), shuffle=True)"
   ]
  },
  {
   "cell_type": "code",
   "execution_count": 9,
   "metadata": {},
   "outputs": [
    {
     "name": "stdout",
     "output_type": "stream",
     "text": [
      "dict_keys(['loss', 'acc', 'val_loss', 'val_acc'])\n"
     ]
    },
    {
     "data": {
      "image/png": "[encoded data removed]",
      "text/plain": [
       "<Figure size 432x288 with 1 Axes>"
      ]
     },
     "metadata": {},
     "output_type": "display_data"
    },
    {
     "data": {
      "image/png": "[encoded data removed]",
      "text/plain": [
       "<Figure size 432x288 with 1 Axes>"
      ]
     },
     "metadata": {},
     "output_type": "display_data"
    }
   ],
   "source": [
    "# list all data in history\n",
    "print(historyFull.history.keys())\n",
    "\n",
    "# summarize history for accuracy\n",
    "plt.plot(historyFull.history['acc'])\n",
    "plt.plot(historyFull.history['val_acc'])\n",
    "plt.title('model accuracy')\n",
    "plt.ylabel('accuracy')\n",
    "plt.xlabel('epoch')\n",
    "plt.legend(['train', 'test'], loc='upper left')\n",
    "plt.show()\n",
    "\n",
    "# summarize history for loss\n",
    "plt.plot(historyFull.history['loss'])\n",
    "plt.plot(historyFull.history['val_loss'])\n",
    "plt.title('model loss')\n",
    "plt.ylabel('loss')\n",
    "plt.xlabel('epoch')\n",
    "plt.legend(['train', 'test'], loc='upper left')\n",
    "plt.show()"
   ]
  },
  {
   "cell_type": "markdown",
   "metadata": {},
   "source": [
    "# Training and prediction for undersampling"
   ]
  },
  {
   "cell_type": "code",
   "execution_count": 13,
   "metadata": {},
   "outputs": [],
   "source": [
    "undersample_path = './Data/UnderSamples/'"
   ]
  },
  {
   "cell_type": "code",
   "execution_count": 14,
   "metadata": {},
   "outputs": [
    {
     "name": "stdout",
     "output_type": "stream",
     "text": [
      "x_train_sub shape: (45500, 32, 32, 3)\n",
      "45500 train samples\n"
     ]
    }
   ],
   "source": [
    "x_train_sub = np.load(undersample_path + 'X0Prop0.1.npy')\n",
    "y_train_sub = np.load(undersample_path + 'Y0Prop0.1.npy')\n",
    "print('x_train_sub shape:', x_train_sub.shape)\n",
    "print(x_train_sub.shape[0], 'train samples')\n",
    "\n",
    "#Convert class vectors to binary class matrices.\n",
    "y_train_sub = keras.utils.to_categorical(y_train_sub, num_classes)"
   ]
  },
  {
   "cell_type": "code",
   "execution_count": null,
   "metadata": {},
   "outputs": [],
   "source": [
    "model.compile(loss='categorical_crossentropy',\n",
    "              optimizer=opt,\n",
    "              metrics=['accuracy'])\n",
    "\n",
    "x_train_sub = x_train_sub.astype('float32')\n",
    "x_train_sub /= 255\n",
    "\n",
    "historySub = model.fit(x_train_sub, y_train_sub, batch_size=batch_size, epochs=epochs, validation_data=(x_test, y_test), shuffle=True)"
   ]
  },
  {
   "cell_type": "code",
   "execution_count": null,
   "metadata": {},
   "outputs": [],
   "source": [
    "# list all data in history\n",
    "print(historySub.history.keys())\n",
    "# summarize history for accuracy\n",
    "plt.plot(historySub.history['accuracy'])\n",
    "plt.plot(historySub.history['val_accuracy'])\n",
    "plt.title('model accuracy')\n",
    "plt.ylabel('accuracy')\n",
    "plt.xlabel('epoch')\n",
    "plt.legend(['train', 'test'], loc='upper left')\n",
    "plt.show()\n",
    "# summarize history for loss\n",
    "plt.plot(historySub.history['loss'])\n",
    "plt.plot(historySub.history['val_loss'])\n",
    "plt.title('model loss')\n",
    "plt.ylabel('loss')\n",
    "plt.xlabel('epoch')\n",
    "plt.legend(['train', 'test'], loc='upper left')\n",
    "plt.show()"
   ]
  },
  {
   "cell_type": "markdown",
   "metadata": {},
   "source": [
    "# Training and prediction for Oversampling"
   ]
  },
  {
   "cell_type": "code",
   "execution_count": 75,
   "metadata": {},
   "outputs": [],
   "source": [
    "oversample_path = './Data/OverSamples/'"
   ]
  },
  {
   "cell_type": "code",
   "execution_count": 76,
   "metadata": {},
   "outputs": [
    {
     "name": "stdout",
     "output_type": "stream",
     "text": [
      "x_oversample shape: (50000, 32, 32, 3)\n",
      "50000 oversample samples\n"
     ]
    }
   ],
   "source": [
    "x_oversample = np.load(oversample_path + 'X0Prop0.1OverSample.npy')\n",
    "y_oversample = np.load(oversample_path + 'Y0Prop0.1OverSample.npy')\n",
    "print('x_oversample shape:', x_oversample.shape)\n",
    "print(x_oversample.shape[0], 'oversample samples')\n",
    "\n",
    "#Convert class vectors to binary class matrices.\n",
    "y_oversample = keras.utils.to_categorical(y_oversample, num_classes)"
   ]
  },
  {
   "cell_type": "code",
   "execution_count": 77,
   "metadata": {},
   "outputs": [],
   "source": [
    "#Define some parameters\n",
    "batch_size = 64\n",
    "num_classes = 10\n",
    "epochs = 30\n",
    "num_predictions = 20"
   ]
  },
  {
   "cell_type": "code",
   "execution_count": null,
   "metadata": {
    "scrolled": true
   },
   "outputs": [
    {
     "name": "stdout",
     "output_type": "stream",
     "text": [
      "Train on 50000 samples, validate on 10000 samples\n",
      "Epoch 1/30\n",
      "50000/50000 [==============================] - 102s 2ms/sample - loss: 2.2777 - accuracy: 0.1315 - val_loss: 368.8231 - val_accuracy: 0.4652\n",
      "Epoch 2/30\n",
      "50000/50000 [==============================] - 104s 2ms/sample - loss: 2.1119 - accuracy: 0.2282 - val_loss: 806.3529 - val_accuracy: 0.3221\n",
      "Epoch 3/30\n",
      "50000/50000 [==============================] - 104s 2ms/sample - loss: 2.0015 - accuracy: 0.2771 - val_loss: 1125.9380 - val_accuracy: 0.2853\n",
      "Epoch 4/30\n",
      "50000/50000 [==============================] - 95s 2ms/sample - loss: 1.9158 - accuracy: 0.3147 - val_loss: 1609.2927 - val_accuracy: 0.2672\n",
      "Epoch 5/30\n",
      "50000/50000 [==============================] - 97s 2ms/sample - loss: 1.8358 - accuracy: 0.3445 - val_loss: 1965.2293 - val_accuracy: 0.2703\n",
      "Epoch 6/30\n",
      "50000/50000 [==============================] - 94s 2ms/sample - loss: 1.7743 - accuracy: 0.3701 - val_loss: 2660.5546 - val_accuracy: 0.2585\n",
      "Epoch 7/30\n",
      "50000/50000 [==============================] - 93s 2ms/sample - loss: 1.7191 - accuracy: 0.3897 - val_loss: 3223.7886 - val_accuracy: 0.2477\n",
      "Epoch 8/30\n",
      " 2304/50000 [>.............................] - ETA: 1:37 - loss: 1.6805 - accuracy: 0.3971"
     ]
    }
   ],
   "source": [
    "model.compile(loss='categorical_crossentropy',\n",
    "              optimizer=opt,\n",
    "              metrics=['accuracy'])\n",
    "\n",
    "x_oversample = x_train_SMOTE.astype('float32')\n",
    "x_oversample /= 255\n",
    "\n",
    "historyOversample = model.fit(x_oversample, y_oversample, batch_size=batch_size, epochs=epochs, validation_data=(x_test, y_test), shuffle=True)"
   ]
  },
  {
   "cell_type": "markdown",
   "metadata": {},
   "source": [
    "# Training and prediction for Vanilla SMOTE"
   ]
  },
  {
   "cell_type": "code",
   "execution_count": 30,
   "metadata": {},
   "outputs": [],
   "source": [
    "SMOTE_path = './Data/SMOTE/'"
   ]
  },
  {
   "cell_type": "code",
   "execution_count": 31,
   "metadata": {},
   "outputs": [
    {
     "name": "stdout",
     "output_type": "stream",
     "text": [
      "x_train_SMOTE shape: (50000, 32, 32, 3)\n",
      "50000 SMOTE samples\n"
     ]
    }
   ],
   "source": [
    "x_SMOTE = np.load(SMOTE_path + 'X0Prop0.1SMOTE.npy')\n",
    "y_SMOTE = np.load(SMOTE_path + 'Y0Prop0.1SMOTE.npy')\n",
    "print('x_SMOTE shape:', x_SMOTE.shape)\n",
    "print(x_SMOTE.shape[0], 'SMOTE samples')\n",
    "\n",
    "#Convert class vectors to binary class matrices.\n",
    "y_SMOTE = keras.utils.to_categorical(y_SMOTE, num_classes)"
   ]
  },
  {
   "cell_type": "code",
   "execution_count": 32,
   "metadata": {},
   "outputs": [],
   "source": [
    "#Define some parameters\n",
    "batch_size = 64\n",
    "num_classes = 10\n",
    "epochs = 30\n",
    "num_predictions = 20"
   ]
  },
  {
   "cell_type": "code",
   "execution_count": 33,
   "metadata": {
    "scrolled": true
   },
   "outputs": [
    {
     "name": "stdout",
     "output_type": "stream",
     "text": [
      "Train on 50000 samples, validate on 10000 samples\n",
      "Epoch 1/30\n",
      "50000/50000 [==============================] - 91s 2ms/sample - loss: 1.8607 - accuracy: 0.3180 - val_loss: 282.9512 - val_accuracy: 0.2536\n",
      "Epoch 2/30\n",
      "50000/50000 [==============================] - 88s 2ms/sample - loss: 1.5048 - accuracy: 0.4544 - val_loss: 854.2117 - val_accuracy: 0.1124\n",
      "Epoch 3/30\n",
      "50000/50000 [==============================] - 92s 2ms/sample - loss: 1.3558 - accuracy: 0.5130 - val_loss: 809.6736 - val_accuracy: 0.1202\n",
      "Epoch 4/30\n",
      "50000/50000 [==============================] - 88s 2ms/sample - loss: 1.2690 - accuracy: 0.5451 - val_loss: 309.8233 - val_accuracy: 0.3205\n",
      "Epoch 5/30\n",
      "50000/50000 [==============================] - 96s 2ms/sample - loss: 1.2008 - accuracy: 0.5720 - val_loss: 346.5931 - val_accuracy: 0.2944\n",
      "Epoch 6/30\n",
      "50000/50000 [==============================] - 93s 2ms/sample - loss: 1.1517 - accuracy: 0.5930 - val_loss: 508.0419 - val_accuracy: 0.2122\n",
      "Epoch 7/30\n",
      "50000/50000 [==============================] - 96s 2ms/sample - loss: 1.0954 - accuracy: 0.6117 - val_loss: 240.4760 - val_accuracy: 0.4003\n",
      "Epoch 8/30\n",
      "50000/50000 [==============================] - 94s 2ms/sample - loss: 1.0515 - accuracy: 0.6266 - val_loss: 245.1326 - val_accuracy: 0.4025\n",
      "Epoch 9/30\n",
      "50000/50000 [==============================] - 94s 2ms/sample - loss: 1.0115 - accuracy: 0.6449 - val_loss: 319.3706 - val_accuracy: 0.3477\n",
      "Epoch 10/30\n",
      "50000/50000 [==============================] - 92s 2ms/sample - loss: 0.9732 - accuracy: 0.6577 - val_loss: 398.6746 - val_accuracy: 0.2997\n",
      "Epoch 11/30\n",
      "50000/50000 [==============================] - 91s 2ms/sample - loss: 0.9407 - accuracy: 0.6703 - val_loss: 195.3179 - val_accuracy: 0.4840\n",
      "Epoch 12/30\n",
      "50000/50000 [==============================] - 91s 2ms/sample - loss: 0.9122 - accuracy: 0.6777 - val_loss: 264.5082 - val_accuracy: 0.4122\n",
      "Epoch 13/30\n",
      "50000/50000 [==============================] - 92s 2ms/sample - loss: 0.8849 - accuracy: 0.6897 - val_loss: 352.3177 - val_accuracy: 0.3542\n",
      "Epoch 14/30\n",
      "50000/50000 [==============================] - 97s 2ms/sample - loss: 0.8602 - accuracy: 0.6986 - val_loss: 232.8013 - val_accuracy: 0.4545\n",
      "Epoch 15/30\n",
      "50000/50000 [==============================] - 97s 2ms/sample - loss: 0.8412 - accuracy: 0.7057 - val_loss: 299.4938 - val_accuracy: 0.3851\n",
      "Epoch 16/30\n",
      "50000/50000 [==============================] - 101s 2ms/sample - loss: 0.8165 - accuracy: 0.7144 - val_loss: 211.4683 - val_accuracy: 0.4674\n",
      "Epoch 17/30\n",
      "50000/50000 [==============================] - 99s 2ms/sample - loss: 0.7956 - accuracy: 0.7218 - val_loss: 231.7145 - val_accuracy: 0.4621\n",
      "Epoch 18/30\n",
      "50000/50000 [==============================] - 107s 2ms/sample - loss: 0.7783 - accuracy: 0.7271 - val_loss: 211.9374 - val_accuracy: 0.4773\n",
      "Epoch 19/30\n",
      "50000/50000 [==============================] - 97s 2ms/sample - loss: 0.7591 - accuracy: 0.7347 - val_loss: 340.9046 - val_accuracy: 0.3585\n",
      "Epoch 20/30\n",
      "50000/50000 [==============================] - 94s 2ms/sample - loss: 0.7441 - accuracy: 0.7396 - val_loss: 163.2850 - val_accuracy: 0.5430\n",
      "Epoch 21/30\n",
      "50000/50000 [==============================] - 95s 2ms/sample - loss: 0.7291 - accuracy: 0.7445 - val_loss: 222.9986 - val_accuracy: 0.4598\n",
      "Epoch 22/30\n",
      "50000/50000 [==============================] - 98s 2ms/sample - loss: 0.7147 - accuracy: 0.7505 - val_loss: 217.0203 - val_accuracy: 0.4680\n",
      "Epoch 23/30\n",
      "50000/50000 [==============================] - 93s 2ms/sample - loss: 0.7009 - accuracy: 0.7553 - val_loss: 181.1234 - val_accuracy: 0.5208\n",
      "Epoch 24/30\n",
      "50000/50000 [==============================] - 91s 2ms/sample - loss: 0.6866 - accuracy: 0.7613 - val_loss: 148.7843 - val_accuracy: 0.5536\n",
      "Epoch 25/30\n",
      "50000/50000 [==============================] - 92s 2ms/sample - loss: 0.6729 - accuracy: 0.7648 - val_loss: 215.0110 - val_accuracy: 0.4951\n",
      "Epoch 26/30\n",
      "50000/50000 [==============================] - 91s 2ms/sample - loss: 0.6641 - accuracy: 0.7676 - val_loss: 196.4458 - val_accuracy: 0.4950\n",
      "Epoch 27/30\n",
      "50000/50000 [==============================] - 92s 2ms/sample - loss: 0.6537 - accuracy: 0.7721 - val_loss: 214.0738 - val_accuracy: 0.4919\n",
      "Epoch 28/30\n",
      "50000/50000 [==============================] - 95s 2ms/sample - loss: 0.6424 - accuracy: 0.7765 - val_loss: 154.3228 - val_accuracy: 0.5463\n",
      "Epoch 29/30\n",
      "50000/50000 [==============================] - 95s 2ms/sample - loss: 0.6334 - accuracy: 0.7807 - val_loss: 199.0683 - val_accuracy: 0.5106\n",
      "Epoch 30/30\n",
      "50000/50000 [==============================] - 95s 2ms/sample - loss: 0.6257 - accuracy: 0.7829 - val_loss: 177.6203 - val_accuracy: 0.5492\n"
     ]
    }
   ],
   "source": [
    "model.compile(loss='categorical_crossentropy',\n",
    "              optimizer=opt,\n",
    "              metrics=['accuracy'])\n",
    "\n",
    "x_SMOTE = x_SMOTE.astype('float32')\n",
    "x_SMOTE /= 255\n",
    "\n",
    "historySmote = model.fit(x_SMOTE, y_SMOTE, batch_size=batch_size, epochs=epochs, validation_data=(x_test, y_test), shuffle=True)"
   ]
  },
  {
   "cell_type": "code",
   "execution_count": 35,
   "metadata": {},
   "outputs": [
    {
     "name": "stdout",
     "output_type": "stream",
     "text": [
      "dict_keys(['loss', 'accuracy', 'val_loss', 'val_accuracy'])\n"
     ]
    },
    {
     "data": {
      "image/png": "[encoded data removed]",
      "text/plain": [
       "<Figure size 432x288 with 1 Axes>"
      ]
     },
     "metadata": {
      "needs_background": "light"
     },
     "output_type": "display_data"
    },
    {
     "data": {
      "image/png": "[encoded data removed]",
      "text/plain": [
       "<Figure size 432x288 with 1 Axes>"
      ]
     },
     "metadata": {
      "needs_background": "light"
     },
     "output_type": "display_data"
    }
   ],
   "source": [
    "# list all data in history\n",
    "print(historySmote.history.keys())\n",
    "# summarize history for accuracy\n",
    "plt.plot(historySmote.history['accuracy'])\n",
    "plt.plot(historySmote.history['val_accuracy'])\n",
    "plt.title('model accuracy')\n",
    "plt.ylabel('accuracy')\n",
    "plt.xlabel('epoch')\n",
    "plt.legend(['train', 'test'], loc='upper left')\n",
    "plt.show()\n",
    "# summarize history for loss\n",
    "plt.plot(historySmote.history['loss'])\n",
    "plt.plot(historySmote.history['val_loss'])\n",
    "plt.title('model loss')\n",
    "plt.ylabel('loss')\n",
    "plt.xlabel('epoch')\n",
    "plt.legend(['train', 'test'], loc='upper left')\n",
    "plt.show()"
   ]
  },
  {
   "cell_type": "markdown",
   "metadata": {},
   "source": [
    "# Training and prediction for ADASyn"
   ]
  },
  {
   "cell_type": "code",
   "execution_count": 68,
   "metadata": {},
   "outputs": [],
   "source": [
    "ADASYN_path = './Data/ADASYN/'"
   ]
  },
  {
   "cell_type": "code",
   "execution_count": 69,
   "metadata": {},
   "outputs": [
    {
     "name": "stdout",
     "output_type": "stream",
     "text": [
      "x_ADASYN shape: (50126, 32, 32, 3)\n",
      "50126 ADASYN samples\n"
     ]
    }
   ],
   "source": [
    "x_ADASYN = np.load(ADASYN_path + 'X0Prop0.1ADASYN.npy')\n",
    "y_ADASYN = np.load(ADASYN_path + 'Y0Prop0.1ADASYN.npy')\n",
    "x_ADASYN = x_ADASYN.reshape((x_ADASYN.shape[0], 32, 32, 3))\n",
    "print('x_ADASYN shape:', x_ADASYN.shape)\n",
    "print(x_ADASYN.shape[0], 'ADASYN samples')\n",
    "\n",
    "#Convert class vectors to binary class matrices.\n",
    "y_ADASYN = keras.utils.to_categorical(y_ADASYN, num_classes)"
   ]
  },
  {
   "cell_type": "code",
   "execution_count": 70,
   "metadata": {},
   "outputs": [],
   "source": [
    "#Define some parameters\n",
    "batch_size = 64\n",
    "num_classes = 10\n",
    "epochs = 30\n",
    "num_predictions = 20"
   ]
  },
  {
   "cell_type": "code",
   "execution_count": 73,
   "metadata": {
    "scrolled": true
   },
   "outputs": [
    {
     "name": "stdout",
     "output_type": "stream",
     "text": [
      "Train on 50126 samples, validate on 10000 samples\n",
      "Epoch 1/30\n",
      "50126/50126 [==============================] - 89s 2ms/sample - loss: 46.7452 - accuracy: 0.4309 - val_loss: 127.0384 - val_accuracy: 0.5423\n",
      "Epoch 2/30\n",
      "50126/50126 [==============================] - 90s 2ms/sample - loss: 1.2551 - accuracy: 0.5929 - val_loss: 192.6734 - val_accuracy: 0.5356\n",
      "Epoch 3/30\n",
      "50126/50126 [==============================] - 90s 2ms/sample - loss: 1.0287 - accuracy: 0.6611 - val_loss: 267.2218 - val_accuracy: 0.4909\n",
      "Epoch 4/30\n",
      "50126/50126 [==============================] - 89s 2ms/sample - loss: 0.9207 - accuracy: 0.6923 - val_loss: 259.4790 - val_accuracy: 0.5211\n",
      "Epoch 5/30\n",
      "50126/50126 [==============================] - 94s 2ms/sample - loss: 0.8583 - accuracy: 0.7123 - val_loss: 224.9686 - val_accuracy: 0.5286\n",
      "Epoch 6/30\n",
      "50126/50126 [==============================] - 94s 2ms/sample - loss: 0.8119 - accuracy: 0.7237 - val_loss: 204.0024 - val_accuracy: 0.5584\n",
      "Epoch 7/30\n",
      "50126/50126 [==============================] - 89s 2ms/sample - loss: 0.7900 - accuracy: 0.7313 - val_loss: 315.8375 - val_accuracy: 0.4629\n",
      "Epoch 8/30\n",
      "50126/50126 [==============================] - 97s 2ms/sample - loss: 0.7626 - accuracy: 0.7412 - val_loss: 236.9438 - val_accuracy: 0.4989\n",
      "Epoch 9/30\n",
      "50126/50126 [==============================] - 87s 2ms/sample - loss: 0.7448 - accuracy: 0.7456 - val_loss: 258.0439 - val_accuracy: 0.5488\n",
      "Epoch 10/30\n",
      "50126/50126 [==============================] - 87s 2ms/sample - loss: 0.7300 - accuracy: 0.7497 - val_loss: 182.9298 - val_accuracy: 0.5746\n",
      "Epoch 11/30\n",
      "50126/50126 [==============================] - 86s 2ms/sample - loss: 0.7174 - accuracy: 0.7559 - val_loss: 123.5887 - val_accuracy: 0.6161\n",
      "Epoch 12/30\n",
      "50126/50126 [==============================] - 87s 2ms/sample - loss: 0.7105 - accuracy: 0.7594 - val_loss: 179.2997 - val_accuracy: 0.5919\n",
      "Epoch 13/30\n",
      "50126/50126 [==============================] - 87s 2ms/sample - loss: 0.6957 - accuracy: 0.7621 - val_loss: 358.4136 - val_accuracy: 0.5005\n",
      "Epoch 14/30\n",
      "50126/50126 [==============================] - 87s 2ms/sample - loss: 0.6893 - accuracy: 0.7659 - val_loss: 154.7474 - val_accuracy: 0.6216\n",
      "Epoch 15/30\n",
      "50126/50126 [==============================] - 95s 2ms/sample - loss: 0.6838 - accuracy: 0.7678 - val_loss: 150.5847 - val_accuracy: 0.6220\n",
      "Epoch 16/30\n",
      "50126/50126 [==============================] - 89s 2ms/sample - loss: 0.6693 - accuracy: 0.7713 - val_loss: 346.9690 - val_accuracy: 0.5132\n",
      "Epoch 17/30\n",
      "50126/50126 [==============================] - 93s 2ms/sample - loss: 0.6640 - accuracy: 0.7733 - val_loss: 160.3552 - val_accuracy: 0.5824\n",
      "Epoch 18/30\n",
      "50126/50126 [==============================] - 91s 2ms/sample - loss: 0.6477 - accuracy: 0.7797 - val_loss: 282.6485 - val_accuracy: 0.5641\n",
      "Epoch 19/30\n",
      "50126/50126 [==============================] - 91s 2ms/sample - loss: 0.6494 - accuracy: 0.7797 - val_loss: 198.5402 - val_accuracy: 0.6129\n",
      "Epoch 20/30\n",
      "50126/50126 [==============================] - 97s 2ms/sample - loss: 0.6456 - accuracy: 0.7814 - val_loss: 199.9730 - val_accuracy: 0.5942\n",
      "Epoch 21/30\n",
      "50126/50126 [==============================] - 95s 2ms/sample - loss: 0.6365 - accuracy: 0.7838 - val_loss: 279.1289 - val_accuracy: 0.5522\n",
      "Epoch 22/30\n",
      "50126/50126 [==============================] - 92s 2ms/sample - loss: 0.6321 - accuracy: 0.7854 - val_loss: 198.4109 - val_accuracy: 0.6041\n",
      "Epoch 23/30\n",
      "50126/50126 [==============================] - 90s 2ms/sample - loss: 0.6297 - accuracy: 0.7876 - val_loss: 222.1048 - val_accuracy: 0.5993\n",
      "Epoch 24/30\n",
      "50126/50126 [==============================] - 94s 2ms/sample - loss: 0.6193 - accuracy: 0.7886 - val_loss: 188.3382 - val_accuracy: 0.6198\n",
      "Epoch 25/30\n",
      "50126/50126 [==============================] - 93s 2ms/sample - loss: 0.6179 - accuracy: 0.7910 - val_loss: 188.1821 - val_accuracy: 0.5969\n",
      "Epoch 26/30\n",
      "50126/50126 [==============================] - 93s 2ms/sample - loss: 0.6148 - accuracy: 0.7923 - val_loss: 204.2358 - val_accuracy: 0.5465\n",
      "Epoch 27/30\n",
      "50126/50126 [==============================] - 90s 2ms/sample - loss: 0.6102 - accuracy: 0.7928 - val_loss: 229.2123 - val_accuracy: 0.5812\n",
      "Epoch 28/30\n",
      "50126/50126 [==============================] - 92s 2ms/sample - loss: 0.6092 - accuracy: 0.7956 - val_loss: 166.9632 - val_accuracy: 0.6221\n",
      "Epoch 29/30\n",
      "50126/50126 [==============================] - 91s 2ms/sample - loss: 0.6063 - accuracy: 0.7953 - val_loss: 197.1022 - val_accuracy: 0.5964\n",
      "Epoch 30/30\n",
      "50126/50126 [==============================] - 94s 2ms/sample - loss: 0.6000 - accuracy: 0.7971 - val_loss: 320.6743 - val_accuracy: 0.5433\n"
     ]
    }
   ],
   "source": [
    "model.compile(loss='categorical_crossentropy',\n",
    "              optimizer=opt,\n",
    "              metrics=['accuracy'])\n",
    "\n",
    "x_ADASYN = x_ADASYN.astype('float32')\n",
    "x_ADASYN /= 255\n",
    "\n",
    "historyADASYN = model.fit(x_ADASYN, y_ADASYN, batch_size=batch_size, epochs=epochs, validation_data=(x_test, y_test), shuffle=True)"
   ]
  },
  {
   "cell_type": "code",
   "execution_count": 74,
   "metadata": {},
   "outputs": [
    {
     "name": "stdout",
     "output_type": "stream",
     "text": [
      "dict_keys(['loss', 'accuracy', 'val_loss', 'val_accuracy'])\n"
     ]
    },
    {
     "data": {
      "image/png": "[encoded data removed]",
      "text/plain": [
       "<Figure size 432x288 with 1 Axes>"
      ]
     },
     "metadata": {
      "needs_background": "light"
     },
     "output_type": "display_data"
    },
    {
     "data": {
      "image/png": "[encoded data removed]",
      "text/plain": [
       "<Figure size 432x288 with 1 Axes>"
      ]
     },
     "metadata": {
      "needs_background": "light"
     },
     "output_type": "display_data"
    }
   ],
   "source": [
    "# list all data in history\n",
    "print(historyADASYN.history.keys())\n",
    "# summarize history for accuracy\n",
    "plt.plot(historyADASYN.history['accuracy'])\n",
    "plt.plot(historyADASYN.history['val_accuracy'])\n",
    "plt.title('model accuracy')\n",
    "plt.ylabel('accuracy')\n",
    "plt.xlabel('epoch')\n",
    "plt.legend(['train', 'test'], loc='upper left')\n",
    "plt.show()\n",
    "# summarize history for loss\n",
    "plt.plot(historyADASYN.history['loss'])\n",
    "plt.plot(historyADASYN.history['val_loss'])\n",
    "plt.title('model loss')\n",
    "plt.ylabel('loss')\n",
    "plt.xlabel('epoch')\n",
    "plt.legend(['train', 'test'], loc='upper left')\n",
    "plt.show()"
   ]
  },
  {
   "cell_type": "code",
   "execution_count": null,
   "metadata": {},
   "outputs": [],
   "source": []
  }
 ],
 "metadata": {
  "kernelspec": {
   "display_name": "Python 3",
   "language": "python",
   "name": "python3"
  }
 },
 "nbformat": 4,
 "nbformat_minor": 2
}

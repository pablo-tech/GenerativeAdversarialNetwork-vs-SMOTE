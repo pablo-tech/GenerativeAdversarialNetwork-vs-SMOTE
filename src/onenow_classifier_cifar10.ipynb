{
 "cells": [
  {
   "cell_type": "markdown",
   "metadata": {},
   "source": [
    "# Training for Full"
   ]
  },
  {
   "cell_type": "code",
   "execution_count": 1,
   "metadata": {},
   "outputs": [
    {
     "name": "stderr",
     "output_type": "stream",
     "text": [
      "Using TensorFlow backend.\n"
     ]
    }
   ],
   "source": [
    "'''\n",
    "Library Dependencies\n",
    "'''\n",
    "from __future__ import print_function\n",
    "\n",
    "import keras\n",
    "from keras.datasets import cifar10\n",
    "from keras.preprocessing.image import ImageDataGenerator\n",
    "from tensorflow.keras.models import Sequential\n",
    "from tensorflow.keras.layers import Dense, Dropout, Activation, Flatten\n",
    "from tensorflow.keras.layers import Conv2D, MaxPooling2D\n",
    "\n",
    "import tensorflow\n",
    "import os\n",
    "import numpy as np\n",
    "import matplotlib.pyplot as plt \n",
    "\n",
    "from sklearn.metrics import confusion_matrix"
   ]
  },
  {
   "cell_type": "code",
   "execution_count": 3,
   "metadata": {},
   "outputs": [],
   "source": [
    "'''\n",
    "Hyper Parameters\n",
    "'''\n",
    "batch_size = 32\n",
    "num_classes = 10\n",
    "epochs = 50\n",
    "num_predictions = 20"
   ]
  },
  {
   "cell_type": "code",
   "execution_count": 2,
   "metadata": {},
   "outputs": [],
   "source": [
    "'''\n",
    "Confusion Matrix Plotting \n",
    "'''\n",
    "\n",
    "def plot_confusion_matrix(y_true, y_pred, classes,\n",
    "                          normalize=False,\n",
    "                          title=None,\n",
    "                          cmap=plt.cm.Blues):\n",
    "    \"\"\"\n",
    "    This function prints and plots the confusion matrix.\n",
    "    Normalization can be applied by setting `normalize=True`.\n",
    "    \"\"\"\n",
    "    if not title:\n",
    "        if normalize:\n",
    "            title = 'Normalized confusion matrix'\n",
    "        else:\n",
    "            title = 'Confusion matrix, without normalization'\n",
    "\n",
    "    # Compute confusion matrix\n",
    "    cm = confusion_matrix(y_true, y_pred)\n",
    "    # Only use the labels that appear in the data\n",
    "    classes = classes[unique_labels(y_true, y_pred)]\n",
    "    if normalize:\n",
    "        cm = cm.astype('float') / cm.sum(axis=1)[:, np.newaxis]\n",
    "        print(\"Normalized confusion matrix\")\n",
    "    else:\n",
    "        print('Confusion matrix, without normalization')\n",
    "\n",
    "    print(cm)\n",
    "\n",
    "    fig, ax = plt.subplots()\n",
    "    im = ax.imshow(cm, interpolation='nearest', cmap=cmap)\n",
    "    ax.figure.colorbar(im, ax=ax)\n",
    "    # We want to show all ticks...\n",
    "    ax.set(xticks=np.arange(cm.shape[1]),\n",
    "           yticks=np.arange(cm.shape[0]),\n",
    "           # ... and label them with the respective list entries\n",
    "           xticklabels=classes, yticklabels=classes,\n",
    "           title=title,\n",
    "           ylabel='True label',\n",
    "           xlabel='Predicted label')\n",
    "\n",
    "    # Rotate the tick labels and set their alignment.\n",
    "    plt.setp(ax.get_xticklabels(), rotation=45, ha=\"right\",\n",
    "             rotation_mode=\"anchor\")\n",
    "\n",
    "    # Loop over data dimensions and create text annotations.\n",
    "    fmt = '.2f' if normalize else 'd'\n",
    "    thresh = cm.max() / 2.\n",
    "    for i in range(cm.shape[0]):\n",
    "        for j in range(cm.shape[1]):\n",
    "            ax.text(j, i, format(cm[i, j], fmt),\n",
    "                    ha=\"center\", va=\"center\",\n",
    "                    color=\"white\" if cm[i, j] > thresh else \"black\")\n",
    "    fig.tight_layout()\n",
    "    return ax"
   ]
  },
  {
   "cell_type": "code",
   "execution_count": 4,
   "metadata": {},
   "outputs": [
    {
     "name": "stdout",
     "output_type": "stream",
     "text": [
      "x_train shape: (50000, 32, 32, 3)\n",
      "50000 train samples\n",
      "10000 test samples\n"
     ]
    }
   ],
   "source": [
    "'''\n",
    "Dataset: CIFAR10\n",
    "'''\n",
    "\n",
    "# he CIFAR10 Dataset contains 60000 images split equally among 10 classes. \n",
    "# 50000 for training, 10000 as a test set\n",
    "(x_train, y_train), (x_test, y_test) = cifar10.load_data()\n",
    "print('x_train shape:', x_train.shape)\n",
    "print(x_train.shape[0], 'train samples')\n",
    "print(x_test.shape[0], 'test samples')\n",
    "\n",
    "#Convert class vectors to binary class matrices.\n",
    "y_train = keras.utils.to_categorical(y_train, num_classes)\n",
    "y_test = keras.utils.to_categorical(y_test, num_classes)"
   ]
  },
  {
   "cell_type": "code",
   "execution_count": 5,
   "metadata": {},
   "outputs": [
    {
     "name": "stdout",
     "output_type": "stream",
     "text": [
      "WARNING:tensorflow:From /home/ec2-user/anaconda3/envs/tensorflow_p36/lib/python3.6/site-packages/tensorflow/python/ops/init_ops.py:1251: calling VarianceScaling.__init__ (from tensorflow.python.ops.init_ops) with dtype is deprecated and will be removed in a future version.\n",
      "Instructions for updating:\n",
      "Call initializer instance with the dtype argument instead of passing it to the constructor\n"
     ]
    }
   ],
   "source": [
    "'''\n",
    "Classifier: CIFAR10\n",
    "'''\n",
    "model = Sequential()\n",
    "model.add(Conv2D(32, (3, 3), padding='same',\n",
    "                 input_shape=x_train.shape[1:]))\n",
    "model.add(Activation('relu'))\n",
    "model.add(Conv2D(32, (3, 3)))\n",
    "model.add(Activation('relu'))\n",
    "model.add(MaxPooling2D(pool_size=(2, 2)))\n",
    "model.add(Dropout(0.25))\n",
    "\n",
    "model.add(Conv2D(64, (3, 3), padding='same'))\n",
    "model.add(Activation('relu'))\n",
    "model.add(Conv2D(64, (3, 3)))\n",
    "model.add(Activation('relu'))\n",
    "model.add(MaxPooling2D(pool_size=(2, 2)))\n",
    "model.add(Dropout(0.25))\n",
    "\n",
    "model.add(Flatten())\n",
    "model.add(Dense(512))\n",
    "model.add(Activation('relu'))\n",
    "model.add(Dropout(0.5))\n",
    "model.add(Dense(num_classes))\n",
    "model.add(Activation('softmax'))\n",
    "\n",
    "# initiate RMSprop optimizer\n",
    "opt = tensorflow.keras.optimizers.RMSprop(lr=0.0001, decay=1e-6)"
   ]
  },
  {
   "cell_type": "code",
   "execution_count": null,
   "metadata": {
    "scrolled": true
   },
   "outputs": [
    {
     "name": "stdout",
     "output_type": "stream",
     "text": [
      "Train on 50000 samples, validate on 10000 samples\n",
      "Epoch 1/50\n",
      "50000/50000 [==============================] - 284s 6ms/sample - loss: 1.8297 - acc: 0.3289 - val_loss: 1.4999 - val_acc: 0.4652\n",
      "Epoch 2/50\n",
      "50000/50000 [==============================] - 286s 6ms/sample - loss: 1.4897 - acc: 0.4608 - val_loss: 1.3736 - val_acc: 0.5131\n",
      "Epoch 3/50\n",
      "50000/50000 [==============================] - 287s 6ms/sample - loss: 1.3622 - acc: 0.5132 - val_loss: 1.2541 - val_acc: 0.5499\n",
      "Epoch 4/50\n",
      "50000/50000 [==============================] - 288s 6ms/sample - loss: 1.2631 - acc: 0.5506 - val_loss: 1.1709 - val_acc: 0.5841\n",
      "Epoch 5/50\n",
      "50000/50000 [==============================] - 284s 6ms/sample - loss: 1.1850 - acc: 0.5810 - val_loss: 1.0966 - val_acc: 0.6111\n",
      "Epoch 6/50\n",
      "50000/50000 [==============================] - 289s 6ms/sample - loss: 1.1172 - acc: 0.6048 - val_loss: 1.0381 - val_acc: 0.6327\n",
      "Epoch 7/50\n",
      "50000/50000 [==============================] - 286s 6ms/sample - loss: 0.8883 - acc: 0.6902 - val_loss: 0.8413 - val_acc: 0.7061\n",
      "Epoch 13/50\n",
      "50000/50000 [==============================] - 288s 6ms/sample - loss: 0.8641 - acc: 0.6977 - val_loss: 0.8819 - val_acc: 0.6964\n",
      "Epoch 14/50\n",
      "50000/50000 [==============================] - 287s 6ms/sample - loss: 0.8420 - acc: 0.7070 - val_loss: 0.8115 - val_acc: 0.7155\n",
      "Epoch 15/50\n",
      "50000/50000 [==============================] - 287s 6ms/sample - loss: 0.8210 - acc: 0.7163 - val_loss: 0.7986 - val_acc: 0.7254\n",
      "Epoch 16/50\n",
      "50000/50000 [==============================] - 293s 6ms/sample - loss: 0.8074 - acc: 0.7196 - val_loss: 0.8075 - val_acc: 0.7169\n",
      "Epoch 17/50\n",
      "50000/50000 [==============================] - 291s 6ms/sample - loss: 0.7930 - acc: 0.7252 - val_loss: 0.7780 - val_acc: 0.7328\n",
      "Epoch 18/50\n",
      "50000/50000 [==============================] - 291s 6ms/sample - loss: 0.7815 - acc: 0.7291 - val_loss: 0.7735 - val_acc: 0.7290\n",
      "Epoch 19/50\n",
      "50000/50000 [==============================] - 286s 6ms/sample - loss: 0.7669 - acc: 0.7353 - val_loss: 0.7493 - val_acc: 0.7399\n",
      "Epoch 20/50\n",
      "50000/50000 [==============================] - 291s 6ms/sample - loss: 0.7591 - acc: 0.7380 - val_loss: 0.7788 - val_acc: 0.7404\n",
      "Epoch 21/50\n",
      "50000/50000 [==============================] - 291s 6ms/sample - loss: 0.7491 - acc: 0.7432 - val_loss: 0.7425 - val_acc: 0.7421\n",
      "Epoch 22/50\n",
      "50000/50000 [==============================] - 294s 6ms/sample - loss: 0.7376 - acc: 0.7456 - val_loss: 0.7925 - val_acc: 0.7277\n",
      "Epoch 23/50\n",
      "50000/50000 [==============================] - 289s 6ms/sample - loss: 0.7360 - acc: 0.7471 - val_loss: 0.7246 - val_acc: 0.7515\n",
      "Epoch 24/50\n",
      "50000/50000 [==============================] - 288s 6ms/sample - loss: 0.7289 - acc: 0.7492 - val_loss: 0.7435 - val_acc: 0.7455\n",
      "Epoch 25/50\n",
      "50000/50000 [==============================] - 288s 6ms/sample - loss: 0.7239 - acc: 0.7545 - val_loss: 0.7138 - val_acc: 0.7565\n",
      "Epoch 26/50\n",
      "50000/50000 [==============================] - 290s 6ms/sample - loss: 0.7129 - acc: 0.7548 - val_loss: 0.7327 - val_acc: 0.7515\n",
      "Epoch 27/50\n",
      "50000/50000 [==============================] - 292s 6ms/sample - loss: 0.7126 - acc: 0.7558 - val_loss: 0.7459 - val_acc: 0.7448\n",
      "Epoch 28/50\n",
      "50000/50000 [==============================] - 293s 6ms/sample - loss: 0.7067 - acc: 0.7583 - val_loss: 0.7268 - val_acc: 0.7547\n",
      "Epoch 29/50\n",
      "50000/50000 [==============================] - 292s 6ms/sample - loss: 0.6990 - acc: 0.7617 - val_loss: 0.7276 - val_acc: 0.7524\n",
      "Epoch 30/50\n",
      "50000/50000 [==============================] - 293s 6ms/sample - loss: 0.7015 - acc: 0.7631 - val_loss: 0.7044 - val_acc: 0.7597\n",
      "Epoch 31/50\n",
      "50000/50000 [==============================] - 293s 6ms/sample - loss: 0.6932 - acc: 0.7648 - val_loss: 0.7102 - val_acc: 0.7575\n",
      "Epoch 32/50\n",
      "50000/50000 [==============================] - 293s 6ms/sample - loss: 0.6941 - acc: 0.7653 - val_loss: 0.7180 - val_acc: 0.7565\n",
      "Epoch 33/50\n",
      "50000/50000 [==============================] - 293s 6ms/sample - loss: 0.6846 - acc: 0.7677 - val_loss: 0.7236 - val_acc: 0.7641\n",
      "Epoch 34/50\n",
      "50000/50000 [==============================] - 289s 6ms/sample - loss: 0.6789 - acc: 0.7698 - val_loss: 0.7447 - val_acc: 0.7587\n",
      "Epoch 35/50\n",
      "50000/50000 [==============================] - 290s 6ms/sample - loss: 0.6795 - acc: 0.7713 - val_loss: 0.7085 - val_acc: 0.7677\n",
      "Epoch 36/50\n",
      "50000/50000 [==============================] - 292s 6ms/sample - loss: 0.6755 - acc: 0.7719 - val_loss: 0.7180 - val_acc: 0.7586\n",
      "Epoch 37/50\n",
      "50000/50000 [==============================] - 297s 6ms/sample - loss: 0.6689 - acc: 0.7738 - val_loss: 0.7021 - val_acc: 0.7723\n",
      "Epoch 38/50\n",
      "50000/50000 [==============================] - 295s 6ms/sample - loss: 0.6682 - acc: 0.7765 - val_loss: 0.6975 - val_acc: 0.7706\n",
      "Epoch 39/50\n",
      "50000/50000 [==============================] - 294s 6ms/sample - loss: 0.6675 - acc: 0.7741 - val_loss: 0.6802 - val_acc: 0.7699\n",
      "Epoch 40/50\n",
      "50000/50000 [==============================] - 278s 6ms/sample - loss: 0.6637 - acc: 0.7755 - val_loss: 0.6852 - val_acc: 0.7742\n",
      "Epoch 41/50\n",
      "50000/50000 [==============================] - 261s 5ms/sample - loss: 0.6603 - acc: 0.7789 - val_loss: 0.7013 - val_acc: 0.7720\n",
      "Epoch 42/50\n",
      "50000/50000 [==============================] - 262s 5ms/sample - loss: 0.6593 - acc: 0.7789 - val_loss: 0.6664 - val_acc: 0.7731\n",
      "Epoch 43/50\n",
      "50000/50000 [==============================] - 256s 5ms/sample - loss: 0.6575 - acc: 0.7790 - val_loss: 0.6735 - val_acc: 0.7776\n",
      "Epoch 44/50\n",
      "50000/50000 [==============================] - 257s 5ms/sample - loss: 0.6458 - acc: 0.7830 - val_loss: 0.6862 - val_acc: 0.7709\n",
      "Epoch 45/50\n",
      "50000/50000 [==============================] - 258s 5ms/sample - loss: 0.6527 - acc: 0.7804 - val_loss: 0.6814 - val_acc: 0.7714\n",
      "Epoch 46/50\n",
      "50000/50000 [==============================] - 259s 5ms/sample - loss: 0.6455 - acc: 0.7835 - val_loss: 0.6596 - val_acc: 0.7837\n",
      "Epoch 47/50\n",
      "50000/50000 [==============================] - 266s 5ms/sample - loss: 0.6430 - acc: 0.7822 - val_loss: 0.6689 - val_acc: 0.7770\n",
      "Epoch 48/50\n",
      "50000/50000 [==============================] - 266s 5ms/sample - loss: 0.6462 - acc: 0.7829 - val_loss: 0.6575 - val_acc: 0.7802\n",
      "Epoch 49/50\n",
      "50000/50000 [==============================] - 268s 5ms/sample - loss: 0.6381 - acc: 0.7856 - val_loss: 0.6740 - val_acc: 0.7750\n",
      "Epoch 50/50\n",
      "50000/50000 [==============================] - 265s 5ms/sample - loss: 0.6428 - acc: 0.7839 - val_loss: 0.6585 - val_acc: 0.7846\n"
     ]
    }
   ],
   "source": [
    "'''\n",
    "Train the Classifer\n",
    "'''\n",
    "model.compile(loss='categorical_crossentropy',\n",
    "              optimizer=opt,\n",
    "              metrics=['accuracy'])\n",
    "\n",
    "x_train = x_train.astype('float32')\n",
    "x_test = x_test.astype('float32')\n",
    "x_train /= 255\n",
    "x_test /= 255\n",
    "\n",
    "historyFull = model.fit(x_train, y_train, batch_size=batch_size, epochs=epochs, \\\n",
    "                        validation_data=(x_test, y_test), shuffle=True)"
   ]
  },
  {
   "cell_type": "code",
   "execution_count": 10,
   "metadata": {},
   "outputs": [
    {
     "name": "stdout",
     "output_type": "stream",
     "text": [
      "dict_keys(['loss', 'acc', 'val_loss', 'val_acc'])\n"
     ]
    },
    {
     "data": {
      "image/png": "[encoded data removed]",
      "text/plain": [
       "<Figure size 432x288 with 1 Axes>"
      ]
     },
     "metadata": {},
     "output_type": "display_data"
    },
    {
     "data": {
      "image/png": "[encoded data removed]",
      "text/plain": [
       "<Figure size 432x288 with 1 Axes>"
      ]
     },
     "metadata": {},
     "output_type": "display_data"
    }
   ],
   "source": [
    "'''\n",
    "Train/Test Performance: Full Dataset\n",
    "'''\n",
    "print(historyFull.history.keys())\n",
    "\n",
    "# summarize history for accuracy\n",
    "plt.plot(historyFull.history['acc'])\n",
    "plt.plot(historyFull.history['val_acc'])\n",
    "plt.title('model accuracy')\n",
    "plt.ylabel('accuracy')\n",
    "plt.xlabel('epoch')\n",
    "plt.legend(['train', 'test'], loc='upper left')\n",
    "plt.show()\n",
    "\n",
    "# summarize history for loss\n",
    "plt.plot(historyFull.history['loss'])\n",
    "plt.plot(historyFull.history['val_loss'])\n",
    "plt.title('model loss')\n",
    "plt.ylabel('loss')\n",
    "plt.xlabel('epoch')\n",
    "plt.legend(['train', 'test'], loc='upper left')\n",
    "plt.show()"
   ]
  },
  {
   "cell_type": "code",
   "execution_count": null,
   "metadata": {},
   "outputs": [],
   "source": [
    "np.set_printoptions(precision=2)\n",
    "\n",
    "class_names = [0,1 ...]\n",
    "\n",
    "# Plot non-normalized confusion matrix\n",
    "plot_confusion_matrix(y_test, y_pred, classes=class_names,\n",
    "                      title='Confusion matrix, without normalization')\n",
    "\n",
    "# Plot normalized confusion matrix\n",
    "plot_confusion_matrix(y_test, y_pred, classes=class_names, normalize=True,\n",
    "                      title='Normalized confusion matrix')\n",
    "\n",
    "plt.show()"
   ]
  },
  {
   "cell_type": "markdown",
   "metadata": {},
   "source": [
    "# Itentional Dataset Imbalance -- Undersampling: Training and Prediction "
   ]
  },
  {
   "cell_type": "code",
   "execution_count": 11,
   "metadata": {},
   "outputs": [],
   "source": [
    "undersample_path = '../sampling/undersample/' "
   ]
  },
  {
   "cell_type": "code",
   "execution_count": 12,
   "metadata": {},
   "outputs": [],
   "source": [
    "class_under_study = '9'\n",
    "level_of_imbalance = '0.1'"
   ]
  },
  {
   "cell_type": "code",
   "execution_count": 13,
   "metadata": {},
   "outputs": [
    {
     "name": "stdout",
     "output_type": "stream",
     "text": [
      "x_train_sub shape: (45500, 32, 32, 3)\n",
      "45500 train samples\n"
     ]
    }
   ],
   "source": [
    "x_train_sub = np.load(undersample_path + 'X' + class_under_study + 'Prop' + level_of_imbalance + '.npy')\n",
    "y_train_sub = np.load(undersample_path + 'Y' + class_under_study + 'Prop' + level_of_imbalance + '.npy')\n",
    "print('x_train_sub shape:', x_train_sub.shape)\n",
    "print(x_train_sub.shape[0], 'train samples')\n",
    "\n",
    "#Convert class vectors to binary class matrices.\n",
    "y_train_sub = keras.utils.to_categorical(y_train_sub, num_classes)"
   ]
  },
  {
   "cell_type": "code",
   "execution_count": null,
   "metadata": {},
   "outputs": [
    {
     "name": "stdout",
     "output_type": "stream",
     "text": [
      "Train on 45500 samples, validate on 10000 samples\n",
      "Epoch 1/50\n",
      "45500/45500 [==============================] - 234s 5ms/sample - loss: 0.6480 - acc: 0.7813 - val_loss: 0.7096 - val_acc: 0.7667\n",
      "Epoch 2/50\n",
      "45500/45500 [==============================] - 233s 5ms/sample - loss: 0.6391 - acc: 0.7846 - val_loss: 0.7276 - val_acc: 0.7646\n",
      "Epoch 3/50\n",
      "45500/45500 [==============================] - 235s 5ms/sample - loss: 0.6388 - acc: 0.7847 - val_loss: 0.7163 - val_acc: 0.7640\n",
      "Epoch 4/50\n",
      "45500/45500 [==============================] - 232s 5ms/sample - loss: 0.6374 - acc: 0.7876 - val_loss: 0.6614 - val_acc: 0.7804\n",
      "Epoch 5/50\n",
      "45500/45500 [==============================] - 234s 5ms/sample - loss: 0.6390 - acc: 0.7851 - val_loss: 0.6684 - val_acc: 0.7776\n",
      "Epoch 6/50\n",
      "45500/45500 [==============================] - 231s 5ms/sample - loss: 0.6405 - acc: 0.7861 - val_loss: 0.6908 - val_acc: 0.7747\n",
      "Epoch 7/50\n",
      "45500/45500 [==============================] - 237s 5ms/sample - loss: 0.6328 - acc: 0.7881 - val_loss: 0.7202 - val_acc: 0.7607\n",
      "Epoch 8/50\n",
      "45500/45500 [==============================] - 236s 5ms/sample - loss: 0.6331 - acc: 0.7893 - val_loss: 0.7135 - val_acc: 0.7674\n",
      "Epoch 9/50\n",
      "45500/45500 [==============================] - 235s 5ms/sample - loss: 0.6350 - acc: 0.7899 - val_loss: 0.6811 - val_acc: 0.7764\n",
      "Epoch 10/50\n",
      "44576/45500 [============================>.] - ETA: 4s - loss: 0.6272 - acc: 0.7885"
     ]
    }
   ],
   "source": [
    "model.compile(loss='categorical_crossentropy',\n",
    "              optimizer=opt,\n",
    "              metrics=['accuracy'])\n",
    "\n",
    "x_train_sub = x_train_sub.astype('float32')\n",
    "x_train_sub /= 255\n",
    "\n",
    "historySub = model.fit(x_train_sub, y_train_sub, batch_size=batch_size, epochs=epochs, \\\n",
    "                       validation_data=(x_test, y_test), shuffle=True)"
   ]
  },
  {
   "cell_type": "code",
   "execution_count": null,
   "metadata": {},
   "outputs": [],
   "source": [
    "# list all data in history\n",
    "print(historySub.history.keys())\n",
    "# summarize history for accuracy\n",
    "plt.plot(historySub.history['accuracy'])\n",
    "plt.plot(historySub.history['val_accuracy'])\n",
    "plt.title('model accuracy')\n",
    "plt.ylabel('accuracy')\n",
    "plt.xlabel('epoch')\n",
    "plt.legend(['train', 'test'], loc='upper left')\n",
    "plt.show()\n",
    "# summarize history for loss\n",
    "plt.plot(historySub.history['loss'])\n",
    "plt.plot(historySub.history['val_loss'])\n",
    "plt.title('model loss')\n",
    "plt.ylabel('loss')\n",
    "plt.xlabel('epoch')\n",
    "plt.legend(['train', 'test'], loc='upper left')\n",
    "plt.show()"
   ]
  },
  {
   "cell_type": "markdown",
   "metadata": {},
   "source": [
    "# Baseline 1 -- Oversampling: Training and Prediction"
   ]
  },
  {
   "cell_type": "code",
   "execution_count": 75,
   "metadata": {},
   "outputs": [],
   "source": [
    "oversample_path = './Data/OverSamples/'"
   ]
  },
  {
   "cell_type": "code",
   "execution_count": 76,
   "metadata": {},
   "outputs": [
    {
     "name": "stdout",
     "output_type": "stream",
     "text": [
      "x_oversample shape: (50000, 32, 32, 3)\n",
      "50000 oversample samples\n"
     ]
    }
   ],
   "source": [
    "x_oversample = np.load(oversample_path + 'X0Prop0.1OverSample.npy')\n",
    "y_oversample = np.load(oversample_path + 'Y0Prop0.1OverSample.npy')\n",
    "print('x_oversample shape:', x_oversample.shape)\n",
    "print(x_oversample.shape[0], 'oversample samples')\n",
    "\n",
    "#Convert class vectors to binary class matrices.\n",
    "y_oversample = keras.utils.to_categorical(y_oversample, num_classes)"
   ]
  },
  {
   "cell_type": "code",
   "execution_count": 77,
   "metadata": {},
   "outputs": [],
   "source": [
    "#Define some parameters\n",
    "batch_size = 64\n",
    "num_classes = 10\n",
    "epochs = 30\n",
    "num_predictions = 20"
   ]
  },
  {
   "cell_type": "code",
   "execution_count": 78,
   "metadata": {
    "scrolled": true
   },
   "outputs": [
    {
     "name": "stdout",
     "output_type": "stream",
     "text": [
      "Train on 50000 samples, validate on 10000 samples\n",
      "Epoch 1/30\n",
      "50000/50000 [==============================] - 102s 2ms/sample - loss: 2.2777 - accuracy: 0.1315 - val_loss: 368.8231 - val_accuracy: 0.4652\n",
      "Epoch 2/30\n",
      "50000/50000 [==============================] - 104s 2ms/sample - loss: 2.1119 - accuracy: 0.2282 - val_loss: 806.3529 - val_accuracy: 0.3221\n",
      "Epoch 3/30\n",
      "50000/50000 [==============================] - 104s 2ms/sample - loss: 2.0015 - accuracy: 0.2771 - val_loss: 1125.9380 - val_accuracy: 0.2853\n",
      "Epoch 4/30\n",
      "50000/50000 [==============================] - 95s 2ms/sample - loss: 1.9158 - accuracy: 0.3147 - val_loss: 1609.2927 - val_accuracy: 0.2672\n",
      "Epoch 5/30\n",
      "50000/50000 [==============================] - 97s 2ms/sample - loss: 1.8358 - accuracy: 0.3445 - val_loss: 1965.2293 - val_accuracy: 0.2703\n",
      "Epoch 6/30\n",
      "50000/50000 [==============================] - 94s 2ms/sample - loss: 1.7743 - accuracy: 0.3701 - val_loss: 2660.5546 - val_accuracy: 0.2585\n",
      "Epoch 7/30\n",
      "50000/50000 [==============================] - 93s 2ms/sample - loss: 1.7191 - accuracy: 0.3897 - val_loss: 3223.7886 - val_accuracy: 0.2477\n",
      "Epoch 8/30\n",
      "50000/50000 [==============================] - 93s 2ms/sample - loss: 1.6764 - accuracy: 0.4038 - val_loss: 3928.8021 - val_accuracy: 0.2300\n",
      "Epoch 9/30\n",
      "50000/50000 [==============================] - 96s 2ms/sample - loss: 1.6322 - accuracy: 0.4240 - val_loss: 4659.2102 - val_accuracy: 0.2217\n",
      "Epoch 10/30\n",
      "50000/50000 [==============================] - 97s 2ms/sample - loss: 1.5923 - accuracy: 0.4362 - val_loss: 5745.8437 - val_accuracy: 0.2120\n",
      "Epoch 11/30\n",
      "50000/50000 [==============================] - 103s 2ms/sample - loss: 1.5628 - accuracy: 0.4490 - val_loss: 6520.3339 - val_accuracy: 0.2075\n",
      "Epoch 12/30\n",
      "50000/50000 [==============================] - 89s 2ms/sample - loss: 1.5360 - accuracy: 0.4586 - val_loss: 7439.9829 - val_accuracy: 0.2059\n",
      "Epoch 13/30\n",
      "50000/50000 [==============================] - 90s 2ms/sample - loss: 1.5038 - accuracy: 0.4711 - val_loss: 10033.5738 - val_accuracy: 0.1901\n",
      "Epoch 14/30\n",
      "50000/50000 [==============================] - 90s 2ms/sample - loss: 1.4824 - accuracy: 0.4785 - val_loss: 9979.6898 - val_accuracy: 0.1923\n",
      "Epoch 15/30\n",
      "50000/50000 [==============================] - 88s 2ms/sample - loss: 1.4593 - accuracy: 0.4881 - val_loss: 11877.4364 - val_accuracy: 0.1940\n",
      "Epoch 16/30\n",
      "50000/50000 [==============================] - 86s 2ms/sample - loss: 1.4322 - accuracy: 0.4955 - val_loss: 12027.0010 - val_accuracy: 0.19922 - loss: 1.4375 - accuracy:  - E - E - ETA: 26s - l - ETA: 23s - loss: 1. - ETA: 21s - loss: 1.4297 - accuracy: - ETA: 20s - loss: 1. - ETA: 18s - loss: 1.4302 - accuracy: 0.496 - ETA: 18s - loss: 1.4 - ETA: 16s - loss: 1.4299 - ac - ETA: 14s - loss: 1.4296 - accuracy: 0.4 - ETA: 14s - loss: 1.4301 - accuracy: 0.49 - ETA: 14s - loss: 1.4296 - ETA:\n",
      "Epoch 17/30\n",
      "50000/50000 [==============================] - 85s 2ms/sample - loss: 1.4153 - accuracy: 0.5062 - val_loss: 13713.2013 - val_accuracy: 0.1961\n",
      "Epoch 18/30\n",
      "50000/50000 [==============================] - 92s 2ms/sample - loss: 1.3877 - accuracy: 0.5171 - val_loss: 15364.4005 - val_accuracy: 0.1944\n",
      "Epoch 19/30\n",
      "50000/50000 [==============================] - 95s 2ms/sample - loss: 1.3728 - accuracy: 0.5182 - val_loss: 16217.8986 - val_accuracy: 0.1985\n",
      "Epoch 20/30\n",
      "50000/50000 [==============================] - 90s 2ms/sample - loss: 1.3562 - accuracy: 0.5269 - val_loss: 17247.6024 - val_accuracy: 0.1961\n",
      "Epoch 21/30\n",
      "50000/50000 [==============================] - 91s 2ms/sample - loss: 1.3309 - accuracy: 0.5350 - val_loss: 17553.7816 - val_accuracy: 0.1984\n",
      "Epoch 22/30\n",
      "50000/50000 [==============================] - 94s 2ms/sample - loss: 1.3189 - accuracy: 0.5398 - val_loss: 18890.8432 - val_accuracy: 0.1943\n",
      "Epoch 23/30\n",
      "50000/50000 [==============================] - 97s 2ms/sample - loss: 1.2990 - accuracy: 0.5452 - val_loss: 19795.4427 - val_accuracy: 0.1971\n",
      "Epoch 24/30\n",
      "50000/50000 [==============================] - 92s 2ms/sample - loss: 1.2843 - accuracy: 0.5532 - val_loss: 21854.8362 - val_accuracy: 0.1931\n",
      "Epoch 25/30\n",
      "50000/50000 [==============================] - 99s 2ms/sample - loss: 1.2728 - accuracy: 0.5583 - val_loss: 22885.9438 - val_accuracy: 0.1864\n",
      "Epoch 26/30\n",
      "50000/50000 [==============================] - 92s 2ms/sample - loss: 1.2519 - accuracy: 0.5657 - val_loss: 24583.8583 - val_accuracy: 0.1897\n",
      "Epoch 27/30\n",
      "50000/50000 [==============================] - 91s 2ms/sample - loss: 1.2466 - accuracy: 0.5667 - val_loss: 25593.2719 - val_accuracy: 0.1863\n",
      "Epoch 28/30\n",
      "50000/50000 [==============================] - 90s 2ms/sample - loss: 1.2299 - accuracy: 0.5741 - val_loss: 27500.4155 - val_accuracy: 0.1868\n",
      "Epoch 29/30\n",
      "50000/50000 [==============================] - 90s 2ms/sample - loss: 1.2154 - accuracy: 0.5780 - val_loss: 28263.4673 - val_accuracy: 0.1872\n",
      "Epoch 30/30\n",
      "50000/50000 [==============================] - 90s 2ms/sample - loss: 1.2038 - accuracy: 0.5797 - val_loss: 30632.6671 - val_accuracy: 0.1793\n"
     ]
    }
   ],
   "source": [
    "model.compile(loss='categorical_crossentropy',\n",
    "              optimizer=opt,\n",
    "              metrics=['accuracy'])\n",
    "\n",
    "x_oversample = x_train_SMOTE.astype('float32')\n",
    "x_oversample /= 255\n",
    "\n",
    "historyOversample = model.fit(x_oversample, y_oversample, batch_size=batch_size, epochs=epochs, \\\n",
    "                              validation_data=(x_test, y_test), shuffle=True)"
   ]
  },
  {
   "cell_type": "code",
   "execution_count": null,
   "metadata": {},
   "outputs": [],
   "source": [
    "# list all data in history\n",
    "print(historyOversample.history.keys())\n",
    "# summarize history for accuracy\n",
    "plt.plot(historyOversample.history['accuracy'])\n",
    "plt.plot(historyOversample.history['val_accuracy'])\n",
    "plt.title('model accuracy')\n",
    "plt.ylabel('accuracy')\n",
    "plt.xlabel('epoch')\n",
    "plt.legend(['train', 'test'], loc='upper left')\n",
    "plt.show()\n",
    "# summarize history for loss\n",
    "plt.plot(historyOversample.history['loss'])\n",
    "plt.plot(historyOversample.history['val_loss'])\n",
    "plt.title('model loss')\n",
    "plt.ylabel('loss')\n",
    "plt.xlabel('epoch')\n",
    "plt.legend(['train', 'test'], loc='upper left')\n",
    "plt.show()"
   ]
  },
  {
   "cell_type": "markdown",
   "metadata": {},
   "source": [
    "# Baseline 2 -- Vanilla SMOTE: Training and Prediction"
   ]
  },
  {
   "cell_type": "code",
   "execution_count": 30,
   "metadata": {},
   "outputs": [],
   "source": [
    "SMOTE_path = './Data/SMOTE/'"
   ]
  },
  {
   "cell_type": "code",
   "execution_count": 31,
   "metadata": {},
   "outputs": [
    {
     "name": "stdout",
     "output_type": "stream",
     "text": [
      "x_train_SMOTE shape: (50000, 32, 32, 3)\n",
      "50000 SMOTE samples\n"
     ]
    }
   ],
   "source": [
    "x_SMOTE = np.load(SMOTE_path + 'X0Prop0.1SMOTE.npy')\n",
    "y_SMOTE = np.load(SMOTE_path + 'Y0Prop0.1SMOTE.npy')\n",
    "print('x_SMOTE shape:', x_SMOTE.shape)\n",
    "print(x_SMOTE.shape[0], 'SMOTE samples')\n",
    "\n",
    "#Convert class vectors to binary class matrices.\n",
    "y_SMOTE = keras.utils.to_categorical(y_SMOTE, num_classes)"
   ]
  },
  {
   "cell_type": "code",
   "execution_count": 32,
   "metadata": {},
   "outputs": [],
   "source": [
    "#Define some parameters\n",
    "batch_size = 64\n",
    "num_classes = 10\n",
    "epochs = 30\n",
    "num_predictions = 20"
   ]
  },
  {
   "cell_type": "code",
   "execution_count": 33,
   "metadata": {
    "scrolled": true
   },
   "outputs": [
    {
     "name": "stdout",
     "output_type": "stream",
     "text": [
      "Train on 50000 samples, validate on 10000 samples\n",
      "Epoch 1/30\n",
      "50000/50000 [==============================] - 91s 2ms/sample - loss: 1.8607 - accuracy: 0.3180 - val_loss: 282.9512 - val_accuracy: 0.2536\n",
      "Epoch 2/30\n",
      "50000/50000 [==============================] - 88s 2ms/sample - loss: 1.5048 - accuracy: 0.4544 - val_loss: 854.2117 - val_accuracy: 0.1124\n",
      "Epoch 3/30\n",
      "50000/50000 [==============================] - 92s 2ms/sample - loss: 1.3558 - accuracy: 0.5130 - val_loss: 809.6736 - val_accuracy: 0.1202\n",
      "Epoch 4/30\n",
      "50000/50000 [==============================] - 88s 2ms/sample - loss: 1.2690 - accuracy: 0.5451 - val_loss: 309.8233 - val_accuracy: 0.3205\n",
      "Epoch 5/30\n",
      "50000/50000 [==============================] - 96s 2ms/sample - loss: 1.2008 - accuracy: 0.5720 - val_loss: 346.5931 - val_accuracy: 0.2944\n",
      "Epoch 6/30\n",
      "50000/50000 [==============================] - 93s 2ms/sample - loss: 1.1517 - accuracy: 0.5930 - val_loss: 508.0419 - val_accuracy: 0.2122\n",
      "Epoch 7/30\n",
      "50000/50000 [==============================] - 96s 2ms/sample - loss: 1.0954 - accuracy: 0.6117 - val_loss: 240.4760 - val_accuracy: 0.4003\n",
      "Epoch 8/30\n",
      "50000/50000 [==============================] - 94s 2ms/sample - loss: 1.0515 - accuracy: 0.6266 - val_loss: 245.1326 - val_accuracy: 0.4025\n",
      "Epoch 9/30\n",
      "50000/50000 [==============================] - 94s 2ms/sample - loss: 1.0115 - accuracy: 0.6449 - val_loss: 319.3706 - val_accuracy: 0.3477\n",
      "Epoch 10/30\n",
      "50000/50000 [==============================] - 92s 2ms/sample - loss: 0.9732 - accuracy: 0.6577 - val_loss: 398.6746 - val_accuracy: 0.2997\n",
      "Epoch 11/30\n",
      "50000/50000 [==============================] - 91s 2ms/sample - loss: 0.9407 - accuracy: 0.6703 - val_loss: 195.3179 - val_accuracy: 0.4840\n",
      "Epoch 12/30\n",
      "50000/50000 [==============================] - 91s 2ms/sample - loss: 0.9122 - accuracy: 0.6777 - val_loss: 264.5082 - val_accuracy: 0.4122\n",
      "Epoch 13/30\n",
      "50000/50000 [==============================] - 92s 2ms/sample - loss: 0.8849 - accuracy: 0.6897 - val_loss: 352.3177 - val_accuracy: 0.3542\n",
      "Epoch 14/30\n",
      "50000/50000 [==============================] - 97s 2ms/sample - loss: 0.8602 - accuracy: 0.6986 - val_loss: 232.8013 - val_accuracy: 0.4545\n",
      "Epoch 15/30\n",
      "50000/50000 [==============================] - 97s 2ms/sample - loss: 0.8412 - accuracy: 0.7057 - val_loss: 299.4938 - val_accuracy: 0.3851\n",
      "Epoch 16/30\n",
      "50000/50000 [==============================] - 101s 2ms/sample - loss: 0.8165 - accuracy: 0.7144 - val_loss: 211.4683 - val_accuracy: 0.4674\n",
      "Epoch 17/30\n",
      "50000/50000 [==============================] - 99s 2ms/sample - loss: 0.7956 - accuracy: 0.7218 - val_loss: 231.7145 - val_accuracy: 0.4621\n",
      "Epoch 18/30\n",
      "50000/50000 [==============================] - 107s 2ms/sample - loss: 0.7783 - accuracy: 0.7271 - val_loss: 211.9374 - val_accuracy: 0.4773\n",
      "Epoch 19/30\n",
      "50000/50000 [==============================] - 97s 2ms/sample - loss: 0.7591 - accuracy: 0.7347 - val_loss: 340.9046 - val_accuracy: 0.3585\n",
      "Epoch 20/30\n",
      "50000/50000 [==============================] - 94s 2ms/sample - loss: 0.7441 - accuracy: 0.7396 - val_loss: 163.2850 - val_accuracy: 0.5430\n",
      "Epoch 21/30\n",
      "50000/50000 [==============================] - 95s 2ms/sample - loss: 0.7291 - accuracy: 0.7445 - val_loss: 222.9986 - val_accuracy: 0.4598\n",
      "Epoch 22/30\n",
      "50000/50000 [==============================] - 98s 2ms/sample - loss: 0.7147 - accuracy: 0.7505 - val_loss: 217.0203 - val_accuracy: 0.4680\n",
      "Epoch 23/30\n",
      "50000/50000 [==============================] - 93s 2ms/sample - loss: 0.7009 - accuracy: 0.7553 - val_loss: 181.1234 - val_accuracy: 0.5208\n",
      "Epoch 24/30\n",
      "50000/50000 [==============================] - 91s 2ms/sample - loss: 0.6866 - accuracy: 0.7613 - val_loss: 148.7843 - val_accuracy: 0.5536\n",
      "Epoch 25/30\n",
      "50000/50000 [==============================] - 92s 2ms/sample - loss: 0.6729 - accuracy: 0.7648 - val_loss: 215.0110 - val_accuracy: 0.4951\n",
      "Epoch 26/30\n",
      "50000/50000 [==============================] - 91s 2ms/sample - loss: 0.6641 - accuracy: 0.7676 - val_loss: 196.4458 - val_accuracy: 0.4950\n",
      "Epoch 27/30\n",
      "50000/50000 [==============================] - 92s 2ms/sample - loss: 0.6537 - accuracy: 0.7721 - val_loss: 214.0738 - val_accuracy: 0.4919\n",
      "Epoch 28/30\n",
      "50000/50000 [==============================] - 95s 2ms/sample - loss: 0.6424 - accuracy: 0.7765 - val_loss: 154.3228 - val_accuracy: 0.5463\n",
      "Epoch 29/30\n",
      "50000/50000 [==============================] - 95s 2ms/sample - loss: 0.6334 - accuracy: 0.7807 - val_loss: 199.0683 - val_accuracy: 0.5106\n",
      "Epoch 30/30\n",
      "50000/50000 [==============================] - 95s 2ms/sample - loss: 0.6257 - accuracy: 0.7829 - val_loss: 177.6203 - val_accuracy: 0.5492\n"
     ]
    }
   ],
   "source": [
    "model.compile(loss='categorical_crossentropy',\n",
    "              optimizer=opt,\n",
    "              metrics=['accuracy'])\n",
    "\n",
    "x_SMOTE = x_SMOTE.astype('float32')\n",
    "x_SMOTE /= 255\n",
    "\n",
    "historySmote = model.fit(x_SMOTE, y_SMOTE, batch_size=batch_size, epochs=epochs, \\\n",
    "                         validation_data=(x_test, y_test), shuffle=True)"
   ]
  },
  {
   "cell_type": "code",
   "execution_count": 35,
   "metadata": {},
   "outputs": [
    {
     "name": "stdout",
     "output_type": "stream",
     "text": [
      "dict_keys(['loss', 'accuracy', 'val_loss', 'val_accuracy'])\n"
     ]
    },
    {
     "data": {
      "image/png": "[encoded data removed]",
      "text/plain": [
       "<Figure size 432x288 with 1 Axes>"
      ]
     },
     "metadata": {
      "needs_background": "light"
     },
     "output_type": "display_data"
    },
    {
     "data": {
      "image/png": "[encoded data removed]",
      "text/plain": [
       "<Figure size 432x288 with 1 Axes>"
      ]
     },
     "metadata": {
      "needs_background": "light"
     },
     "output_type": "display_data"
    }
   ],
   "source": [
    "# list all data in history\n",
    "print(historySmote.history.keys())\n",
    "# summarize history for accuracy\n",
    "plt.plot(historySmote.history['accuracy'])\n",
    "plt.plot(historySmote.history['val_accuracy'])\n",
    "plt.title('model accuracy')\n",
    "plt.ylabel('accuracy')\n",
    "plt.xlabel('epoch')\n",
    "plt.legend(['train', 'test'], loc='upper left')\n",
    "plt.show()\n",
    "# summarize history for loss\n",
    "plt.plot(historySmote.history['loss'])\n",
    "plt.plot(historySmote.history['val_loss'])\n",
    "plt.title('model loss')\n",
    "plt.ylabel('loss')\n",
    "plt.xlabel('epoch')\n",
    "plt.legend(['train', 'test'], loc='upper left')\n",
    "plt.show()"
   ]
  },
  {
   "cell_type": "markdown",
   "metadata": {},
   "source": [
    "# Baseline 3 -- Adaptive Synthesis: Training and prediction"
   ]
  },
  {
   "cell_type": "code",
   "execution_count": 68,
   "metadata": {},
   "outputs": [],
   "source": [
    "ADASYN_path = './Data/ADASYN/'"
   ]
  },
  {
   "cell_type": "code",
   "execution_count": 69,
   "metadata": {},
   "outputs": [
    {
     "name": "stdout",
     "output_type": "stream",
     "text": [
      "x_ADASYN shape: (50126, 32, 32, 3)\n",
      "50126 ADASYN samples\n"
     ]
    }
   ],
   "source": [
    "x_ADASYN = np.load(ADASYN_path + 'X0Prop0.1ADASYN.npy')\n",
    "y_ADASYN = np.load(ADASYN_path + 'Y0Prop0.1ADASYN.npy')\n",
    "x_ADASYN = x_ADASYN.reshape((x_ADASYN.shape[0], 32, 32, 3))\n",
    "print('x_ADASYN shape:', x_ADASYN.shape)\n",
    "print(x_ADASYN.shape[0], 'ADASYN samples')\n",
    "\n",
    "#Convert class vectors to binary class matrices.\n",
    "y_ADASYN = keras.utils.to_categorical(y_ADASYN, num_classes)"
   ]
  },
  {
   "cell_type": "code",
   "execution_count": 70,
   "metadata": {},
   "outputs": [],
   "source": [
    "#Define some parameters\n",
    "batch_size = 64\n",
    "num_classes = 10\n",
    "epochs = 30\n",
    "num_predictions = 20"
   ]
  },
  {
   "cell_type": "code",
   "execution_count": 73,
   "metadata": {
    "scrolled": true
   },
   "outputs": [
    {
     "name": "stdout",
     "output_type": "stream",
     "text": [
      "Train on 50126 samples, validate on 10000 samples\n",
      "Epoch 1/30\n",
      "50126/50126 [==============================] - 89s 2ms/sample - loss: 46.7452 - accuracy: 0.4309 - val_loss: 127.0384 - val_accuracy: 0.5423\n",
      "Epoch 2/30\n",
      "50126/50126 [==============================] - 90s 2ms/sample - loss: 1.2551 - accuracy: 0.5929 - val_loss: 192.6734 - val_accuracy: 0.5356\n",
      "Epoch 3/30\n",
      "50126/50126 [==============================] - 90s 2ms/sample - loss: 1.0287 - accuracy: 0.6611 - val_loss: 267.2218 - val_accuracy: 0.4909\n",
      "Epoch 4/30\n",
      "50126/50126 [==============================] - 89s 2ms/sample - loss: 0.9207 - accuracy: 0.6923 - val_loss: 259.4790 - val_accuracy: 0.5211\n",
      "Epoch 5/30\n",
      "50126/50126 [==============================] - 94s 2ms/sample - loss: 0.8583 - accuracy: 0.7123 - val_loss: 224.9686 - val_accuracy: 0.5286\n",
      "Epoch 6/30\n",
      "50126/50126 [==============================] - 94s 2ms/sample - loss: 0.8119 - accuracy: 0.7237 - val_loss: 204.0024 - val_accuracy: 0.5584\n",
      "Epoch 7/30\n",
      "50126/50126 [==============================] - 89s 2ms/sample - loss: 0.7900 - accuracy: 0.7313 - val_loss: 315.8375 - val_accuracy: 0.4629\n",
      "Epoch 8/30\n",
      "50126/50126 [==============================] - 97s 2ms/sample - loss: 0.7626 - accuracy: 0.7412 - val_loss: 236.9438 - val_accuracy: 0.4989\n",
      "Epoch 9/30\n",
      "50126/50126 [==============================] - 87s 2ms/sample - loss: 0.7448 - accuracy: 0.7456 - val_loss: 258.0439 - val_accuracy: 0.5488\n",
      "Epoch 10/30\n",
      "50126/50126 [==============================] - 87s 2ms/sample - loss: 0.7300 - accuracy: 0.7497 - val_loss: 182.9298 - val_accuracy: 0.5746\n",
      "Epoch 11/30\n",
      "50126/50126 [==============================] - 86s 2ms/sample - loss: 0.7174 - accuracy: 0.7559 - val_loss: 123.5887 - val_accuracy: 0.6161\n",
      "Epoch 12/30\n",
      "50126/50126 [==============================] - 87s 2ms/sample - loss: 0.7105 - accuracy: 0.7594 - val_loss: 179.2997 - val_accuracy: 0.5919\n",
      "Epoch 13/30\n",
      "50126/50126 [==============================] - 87s 2ms/sample - loss: 0.6957 - accuracy: 0.7621 - val_loss: 358.4136 - val_accuracy: 0.5005\n",
      "Epoch 14/30\n",
      "50126/50126 [==============================] - 87s 2ms/sample - loss: 0.6893 - accuracy: 0.7659 - val_loss: 154.7474 - val_accuracy: 0.6216\n",
      "Epoch 15/30\n",
      "50126/50126 [==============================] - 95s 2ms/sample - loss: 0.6838 - accuracy: 0.7678 - val_loss: 150.5847 - val_accuracy: 0.6220\n",
      "Epoch 16/30\n",
      "50126/50126 [==============================] - 89s 2ms/sample - loss: 0.6693 - accuracy: 0.7713 - val_loss: 346.9690 - val_accuracy: 0.5132\n",
      "Epoch 17/30\n",
      "50126/50126 [==============================] - 93s 2ms/sample - loss: 0.6640 - accuracy: 0.7733 - val_loss: 160.3552 - val_accuracy: 0.5824\n",
      "Epoch 18/30\n",
      "50126/50126 [==============================] - 91s 2ms/sample - loss: 0.6477 - accuracy: 0.7797 - val_loss: 282.6485 - val_accuracy: 0.5641\n",
      "Epoch 19/30\n",
      "50126/50126 [==============================] - 91s 2ms/sample - loss: 0.6494 - accuracy: 0.7797 - val_loss: 198.5402 - val_accuracy: 0.6129\n",
      "Epoch 20/30\n",
      "50126/50126 [==============================] - 97s 2ms/sample - loss: 0.6456 - accuracy: 0.7814 - val_loss: 199.9730 - val_accuracy: 0.5942\n",
      "Epoch 21/30\n",
      "50126/50126 [==============================] - 95s 2ms/sample - loss: 0.6365 - accuracy: 0.7838 - val_loss: 279.1289 - val_accuracy: 0.5522\n",
      "Epoch 22/30\n",
      "50126/50126 [==============================] - 92s 2ms/sample - loss: 0.6321 - accuracy: 0.7854 - val_loss: 198.4109 - val_accuracy: 0.6041\n",
      "Epoch 23/30\n",
      "50126/50126 [==============================] - 90s 2ms/sample - loss: 0.6297 - accuracy: 0.7876 - val_loss: 222.1048 - val_accuracy: 0.5993\n",
      "Epoch 24/30\n",
      "50126/50126 [==============================] - 94s 2ms/sample - loss: 0.6193 - accuracy: 0.7886 - val_loss: 188.3382 - val_accuracy: 0.6198\n",
      "Epoch 25/30\n",
      "50126/50126 [==============================] - 93s 2ms/sample - loss: 0.6179 - accuracy: 0.7910 - val_loss: 188.1821 - val_accuracy: 0.5969\n",
      "Epoch 26/30\n",
      "50126/50126 [==============================] - 93s 2ms/sample - loss: 0.6148 - accuracy: 0.7923 - val_loss: 204.2358 - val_accuracy: 0.5465\n",
      "Epoch 27/30\n",
      "50126/50126 [==============================] - 90s 2ms/sample - loss: 0.6102 - accuracy: 0.7928 - val_loss: 229.2123 - val_accuracy: 0.5812\n",
      "Epoch 28/30\n",
      "50126/50126 [==============================] - 92s 2ms/sample - loss: 0.6092 - accuracy: 0.7956 - val_loss: 166.9632 - val_accuracy: 0.6221\n",
      "Epoch 29/30\n",
      "50126/50126 [==============================] - 91s 2ms/sample - loss: 0.6063 - accuracy: 0.7953 - val_loss: 197.1022 - val_accuracy: 0.5964\n",
      "Epoch 30/30\n",
      "50126/50126 [==============================] - 94s 2ms/sample - loss: 0.6000 - accuracy: 0.7971 - val_loss: 320.6743 - val_accuracy: 0.5433\n"
     ]
    }
   ],
   "source": [
    "model.compile(loss='categorical_crossentropy',\n",
    "              optimizer=opt,\n",
    "              metrics=['accuracy'])\n",
    "\n",
    "x_ADASYN = x_ADASYN.astype('float32')\n",
    "x_ADASYN /= 255\n",
    "\n",
    "historyADASYN = model.fit(x_ADASYN, y_ADASYN, batch_size=batch_size, epochs=epochs, \\\n",
    "                          validation_data=(x_test, y_test), shuffle=True)"
   ]
  },
  {
   "cell_type": "code",
   "execution_count": 74,
   "metadata": {},
   "outputs": [
    {
     "name": "stdout",
     "output_type": "stream",
     "text": [
      "dict_keys(['loss', 'accuracy', 'val_loss', 'val_accuracy'])\n"
     ]
    },
    {
     "data": {
      "image/png": "[encoded data removed]",
      "text/plain": [
       "<Figure size 432x288 with 1 Axes>"
      ]
     },
     "metadata": {
      "needs_background": "light"
     },
     "output_type": "display_data"
    },
    {
     "data": {
      "image/png": "[encoded data removed]",
      "text/plain": [
       "<Figure size 432x288 with 1 Axes>"
      ]
     },
     "metadata": {
      "needs_background": "light"
     },
     "output_type": "display_data"
    }
   ],
   "source": [
    "# list all data in history\n",
    "print(historyADASYN.history.keys())\n",
    "# summarize history for accuracy\n",
    "plt.plot(historyADASYN.history['accuracy'])\n",
    "plt.plot(historyADASYN.history['val_accuracy'])\n",
    "plt.title('model accuracy')\n",
    "plt.ylabel('accuracy')\n",
    "plt.xlabel('epoch')\n",
    "plt.legend(['train', 'test'], loc='upper left')\n",
    "plt.show()\n",
    "# summarize history for loss\n",
    "plt.plot(historyADASYN.history['loss'])\n",
    "plt.plot(historyADASYN.history['val_loss'])\n",
    "plt.title('model loss')\n",
    "plt.ylabel('loss')\n",
    "plt.xlabel('epoch')\n",
    "plt.legend(['train', 'test'], loc='upper left')\n",
    "plt.show()"
   ]
  },
  {
   "cell_type": "code",
   "execution_count": null,
   "metadata": {},
   "outputs": [],
   "source": []
  }
 ],
 "metadata": {
  "kernelspec": {
   "display_name": "conda_tensorflow_p36",
   "language": "python",
   "name": "conda_tensorflow_p36"
  },
  "language_info": {
   "codemirror_mode": {
    "name": "ipython",
    "version": 3
   },
   "file_extension": ".py",
   "mimetype": "text/x-python",
   "name": "python",
   "nbconvert_exporter": "python",
   "pygments_lexer": "ipython3",
   "version": "3.6.5"
  }
 },
 "nbformat": 4,
 "nbformat_minor": 2
}

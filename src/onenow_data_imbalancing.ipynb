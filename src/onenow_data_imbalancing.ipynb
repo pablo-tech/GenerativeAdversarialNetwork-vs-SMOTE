{
 "cells": [
  {
   "cell_type": "code",
   "execution_count": 1,
   "metadata": {},
   "outputs": [
    {
     "name": "stderr",
     "output_type": "stream",
     "text": [
      "Using TensorFlow backend.\n"
     ]
    }
   ],
   "source": [
    "'''\n",
    "Library Dependencies\n",
    "'''\n",
    "from keras.datasets import cifar10\n",
    "import numpy as np\n",
    "from random import sample\n",
    "import gzip\n",
    "import pandas as pd"
   ]
  },
  {
   "cell_type": "code",
   "execution_count": 2,
   "metadata": {},
   "outputs": [
    {
     "name": "stdout",
     "output_type": "stream",
     "text": [
      "(50000, 32, 32, 3)\n",
      "(50000, 1)\n"
     ]
    }
   ],
   "source": [
    "'''\n",
    "Load Dataset\n",
    "'''\n",
    "(x_train, y_train), _ = cifar10.load_data()\n",
    "print(x_train.shape)\n",
    "print(y_train.shape)"
   ]
  },
  {
   "cell_type": "markdown",
   "metadata": {},
   "source": [
    "# Generate undersampling class"
   ]
  },
  {
   "cell_type": "code",
   "execution_count": 3,
   "metadata": {},
   "outputs": [],
   "source": [
    "undersample_path = '../sampling/undersample/' "
   ]
  },
  {
   "cell_type": "code",
   "execution_count": 4,
   "metadata": {},
   "outputs": [],
   "source": [
    "'''\n",
    "Induce class imblance by undersampling a class\n",
    "'''\n",
    "class_list = [9]\n",
    "level_of_imbalance = [0.1] # 0.75,0.5,0.25,\n",
    "\n",
    "for i in class_list:\n",
    "    for j in level_of_imbalance: \n",
    "        nonLabelX = []\n",
    "        nonLabelY = []\n",
    "        labelX = []\n",
    "        labelY = []\n",
    "        for y in range(y_train.shape[0]):\n",
    "            if y_train[y][0] == i:\n",
    "                labelX.append(x_train[y])\n",
    "                labelY.append(y_train[y])\n",
    "            else:\n",
    "                nonLabelX.append(x_train[y])\n",
    "                nonLabelY.append(y_train[y])\n",
    "        idx = np.random.choice(np.arange(5000), int(5000*j), replace = False)\n",
    "        sampleX = [labelX[i] for i in idx]\n",
    "        sampleY = [labelY[i] for i in idx]\n",
    "        newTrainX = np.array(nonLabelX + sampleX)\n",
    "        newTrainY = np.array(nonLabelY + sampleY)\n",
    "        np.save(undersample_path + 'X' + str(i) + 'Prop' + str(j), newTrainX)\n",
    "        np.save(undersample_path + 'Y' + str(i) + 'Prop' + str(j), newTrainY)"
   ]
  },
  {
   "cell_type": "code",
   "execution_count": null,
   "metadata": {},
   "outputs": [],
   "source": []
  }
 ],
 "metadata": {
  "kernelspec": {
   "display_name": "conda_tensorflow_p36",
   "language": "python",
   "name": "conda_tensorflow_p36"
  },
  "language_info": {
   "codemirror_mode": {
    "name": "ipython",
    "version": 3
   },
   "file_extension": ".py",
   "mimetype": "text/x-python",
   "name": "python",
   "nbconvert_exporter": "python",
   "pygments_lexer": "ipython3",
   "version": "3.6.5"
  }
 },
 "nbformat": 4,
 "nbformat_minor": 2
}

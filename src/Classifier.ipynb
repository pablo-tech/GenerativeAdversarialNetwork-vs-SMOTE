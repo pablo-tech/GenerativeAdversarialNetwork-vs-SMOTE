{
 "cells": [
  {
   "cell_type": "markdown",
   "metadata": {},
   "source": [
    "# Training for Full"
   ]
  },
  {
   "cell_type": "code",
   "execution_count": 4,
   "metadata": {},
   "outputs": [],
   "source": [
    "from __future__ import print_function\n",
    "import keras\n",
    "from keras.datasets import cifar10\n",
    "from keras.preprocessing.image import ImageDataGenerator\n",
    "from tensorflow.keras.models import Sequential\n",
    "from tensorflow.keras.layers import Dense, Dropout, Activation, Flatten\n",
    "from tensorflow.keras.layers import Conv2D, MaxPooling2D\n",
    "import tensorflow\n",
    "import os\n",
    "import numpy as np\n",
    "import matplotlib.pyplot as plt "
   ]
  },
  {
   "cell_type": "code",
   "execution_count": 5,
   "metadata": {},
   "outputs": [],
   "source": [
    "#Define some parameters\n",
    "batch_size = 32\n",
    "num_classes = 10\n",
    "epochs = 50\n",
    "num_predictions = 20"
   ]
  },
  {
   "cell_type": "code",
   "execution_count": 6,
   "metadata": {},
   "outputs": [
    {
     "name": "stdout",
     "output_type": "stream",
     "text": [
      "x_train shape: (50000, 32, 32, 3)\n",
      "50000 train samples\n",
      "10000 test samples\n"
     ]
    }
   ],
   "source": [
    "#Load in the data\n",
    "(x_train, y_train), (x_test, y_test) = cifar10.load_data()\n",
    "print('x_train shape:', x_train.shape)\n",
    "print(x_train.shape[0], 'train samples')\n",
    "print(x_test.shape[0], 'test samples')\n",
    "\n",
    "#Convert class vectors to binary class matrices.\n",
    "y_train = keras.utils.to_categorical(y_train, num_classes)\n",
    "y_test = keras.utils.to_categorical(y_test, num_classes)"
   ]
  },
  {
   "cell_type": "code",
   "execution_count": 7,
   "metadata": {},
   "outputs": [
    {
     "name": "stderr",
     "output_type": "stream",
     "text": [
      "WARNING: Logging before flag parsing goes to stderr.\n",
      "W1103 20:38:34.921457 140342909486912 deprecation.py:506] From /home/ec2-user/anaconda3/envs/tensorflow_p36/lib/python3.6/site-packages/tensorflow/python/ops/init_ops.py:1251: calling VarianceScaling.__init__ (from tensorflow.python.ops.init_ops) with dtype is deprecated and will be removed in a future version.\n",
      "Instructions for updating:\n",
      "Call initializer instance with the dtype argument instead of passing it to the constructor\n"
     ]
    }
   ],
   "source": [
    "#Set up the model\n",
    "model = Sequential()\n",
    "model.add(Conv2D(32, (3, 3), padding='same',\n",
    "                 input_shape=x_train.shape[1:]))\n",
    "model.add(Activation('relu'))\n",
    "model.add(Conv2D(32, (3, 3)))\n",
    "model.add(Activation('relu'))\n",
    "model.add(MaxPooling2D(pool_size=(2, 2)))\n",
    "model.add(Dropout(0.25))\n",
    "\n",
    "model.add(Conv2D(64, (3, 3), padding='same'))\n",
    "model.add(Activation('relu'))\n",
    "model.add(Conv2D(64, (3, 3)))\n",
    "model.add(Activation('relu'))\n",
    "model.add(MaxPooling2D(pool_size=(2, 2)))\n",
    "model.add(Dropout(0.25))\n",
    "\n",
    "model.add(Flatten())\n",
    "model.add(Dense(512))\n",
    "model.add(Activation('relu'))\n",
    "model.add(Dropout(0.5))\n",
    "model.add(Dense(num_classes))\n",
    "model.add(Activation('softmax'))\n",
    "\n",
    "# initiate RMSprop optimizer\n",
    "opt = tensorflow.keras.optimizers.RMSprop(lr=0.0001, decay=1e-6)"
   ]
  },
  {
   "cell_type": "code",
   "execution_count": 8,
   "metadata": {},
   "outputs": [
    {
     "name": "stdout",
     "output_type": "stream",
     "text": [
      "Train on 50000 samples, validate on 10000 samples\n",
      "Epoch 1/50\n",
      "50000/50000 [==============================] - 87s 2ms/sample - loss: 1.8349 - acc: 0.3242 - val_loss: 1.5792 - val_acc: 0.4340\n",
      "Epoch 2/50\n",
      "50000/50000 [==============================] - 86s 2ms/sample - loss: 1.5252 - acc: 0.4444 - val_loss: 1.4434 - val_acc: 0.4824\n",
      "Epoch 3/50\n",
      "50000/50000 [==============================] - 85s 2ms/sample - loss: 1.3803 - acc: 0.5009 - val_loss: 1.2453 - val_acc: 0.5563\n",
      "Epoch 4/50\n",
      "50000/50000 [==============================] - 87s 2ms/sample - loss: 1.2769 - acc: 0.5444 - val_loss: 1.1679 - val_acc: 0.5848\n",
      "Epoch 5/50\n",
      "50000/50000 [==============================] - 86s 2ms/sample - loss: 1.1896 - acc: 0.5802 - val_loss: 1.1712 - val_acc: 0.5987\n",
      "Epoch 6/50\n",
      "50000/50000 [==============================] - 86s 2ms/sample - loss: 1.1181 - acc: 0.6060 - val_loss: 1.0320 - val_acc: 0.6378\n",
      "Epoch 7/50\n",
      "50000/50000 [==============================] - 87s 2ms/sample - loss: 1.0597 - acc: 0.6280 - val_loss: 0.9657 - val_acc: 0.6610\n",
      "Epoch 8/50\n",
      "50000/50000 [==============================] - 87s 2ms/sample - loss: 1.0127 - acc: 0.6458 - val_loss: 0.9629 - val_acc: 0.6605\n",
      "Epoch 9/50\n",
      "50000/50000 [==============================] - 85s 2ms/sample - loss: 0.9646 - acc: 0.6626 - val_loss: 0.9055 - val_acc: 0.6797\n",
      "Epoch 10/50\n",
      "50000/50000 [==============================] - 84s 2ms/sample - loss: 0.9249 - acc: 0.6772 - val_loss: 0.8945 - val_acc: 0.6898\n",
      "Epoch 11/50\n",
      "50000/50000 [==============================] - 87s 2ms/sample - loss: 0.8917 - acc: 0.6890 - val_loss: 0.8366 - val_acc: 0.7104\n",
      "Epoch 12/50\n",
      "50000/50000 [==============================] - 86s 2ms/sample - loss: 0.8660 - acc: 0.7005 - val_loss: 0.8311 - val_acc: 0.7132\n",
      "Epoch 13/50\n",
      "50000/50000 [==============================] - 86s 2ms/sample - loss: 0.8433 - acc: 0.7040 - val_loss: 0.7979 - val_acc: 0.7267\n",
      "Epoch 14/50\n",
      "50000/50000 [==============================] - 86s 2ms/sample - loss: 0.8206 - acc: 0.7155 - val_loss: 0.8057 - val_acc: 0.7240\n",
      "Epoch 15/50\n",
      "50000/50000 [==============================] - 84s 2ms/sample - loss: 0.8033 - acc: 0.7218 - val_loss: 0.7872 - val_acc: 0.7288\n",
      "Epoch 16/50\n",
      "50000/50000 [==============================] - 88s 2ms/sample - loss: 0.7851 - acc: 0.7247 - val_loss: 0.7874 - val_acc: 0.7330\n",
      "Epoch 17/50\n",
      "50000/50000 [==============================] - 86s 2ms/sample - loss: 0.7687 - acc: 0.7360 - val_loss: 0.7446 - val_acc: 0.7443\n",
      "Epoch 18/50\n",
      "50000/50000 [==============================] - 86s 2ms/sample - loss: 0.7610 - acc: 0.7355 - val_loss: 0.7568 - val_acc: 0.7380\n",
      "Epoch 19/50\n",
      "50000/50000 [==============================] - 86s 2ms/sample - loss: 0.7479 - acc: 0.7405 - val_loss: 0.7301 - val_acc: 0.7487\n",
      "Epoch 20/50\n",
      "50000/50000 [==============================] - 84s 2ms/sample - loss: 0.7361 - acc: 0.7449 - val_loss: 0.7108 - val_acc: 0.7544\n",
      "Epoch 21/50\n",
      "50000/50000 [==============================] - 86s 2ms/sample - loss: 0.7285 - acc: 0.7500 - val_loss: 0.7000 - val_acc: 0.7582\n",
      "Epoch 22/50\n",
      "50000/50000 [==============================] - 85s 2ms/sample - loss: 0.7217 - acc: 0.7503 - val_loss: 0.7030 - val_acc: 0.7548\n",
      "Epoch 23/50\n",
      "50000/50000 [==============================] - 85s 2ms/sample - loss: 0.7136 - acc: 0.7530 - val_loss: 0.7021 - val_acc: 0.7579\n",
      "Epoch 24/50\n",
      "50000/50000 [==============================] - 85s 2ms/sample - loss: 0.7102 - acc: 0.7575 - val_loss: 0.6968 - val_acc: 0.7629\n",
      "Epoch 25/50\n",
      "50000/50000 [==============================] - 86s 2ms/sample - loss: 0.7022 - acc: 0.7604 - val_loss: 0.6803 - val_acc: 0.7643\n",
      "Epoch 26/50\n",
      "50000/50000 [==============================] - 85s 2ms/sample - loss: 0.6963 - acc: 0.7640 - val_loss: 0.7078 - val_acc: 0.7562\n",
      "Epoch 27/50\n",
      "50000/50000 [==============================] - 85s 2ms/sample - loss: 0.6934 - acc: 0.7638 - val_loss: 0.6890 - val_acc: 0.7656\n",
      "Epoch 28/50\n",
      "50000/50000 [==============================] - 85s 2ms/sample - loss: 0.6883 - acc: 0.7659 - val_loss: 0.6825 - val_acc: 0.7686\n",
      "Epoch 29/50\n",
      "50000/50000 [==============================] - 84s 2ms/sample - loss: 0.6833 - acc: 0.7679 - val_loss: 0.6800 - val_acc: 0.7633\n",
      "Epoch 30/50\n",
      "50000/50000 [==============================] - 84s 2ms/sample - loss: 0.6857 - acc: 0.7682 - val_loss: 0.7186 - val_acc: 0.7595\n",
      "Epoch 31/50\n",
      "50000/50000 [==============================] - 86s 2ms/sample - loss: 0.6794 - acc: 0.7708 - val_loss: 0.6677 - val_acc: 0.7694\n",
      "Epoch 32/50\n",
      "50000/50000 [==============================] - 85s 2ms/sample - loss: 0.6744 - acc: 0.7720 - val_loss: 0.6918 - val_acc: 0.7654\n",
      "Epoch 33/50\n",
      "50000/50000 [==============================] - 86s 2ms/sample - loss: 0.6661 - acc: 0.7736 - val_loss: 0.6643 - val_acc: 0.7767\n",
      "Epoch 34/50\n",
      "50000/50000 [==============================] - 84s 2ms/sample - loss: 0.6674 - acc: 0.7743 - val_loss: 0.6544 - val_acc: 0.7755\n",
      "Epoch 35/50\n",
      "50000/50000 [==============================] - 87s 2ms/sample - loss: 0.6624 - acc: 0.7771 - val_loss: 0.6560 - val_acc: 0.7762\n",
      "Epoch 36/50\n",
      "50000/50000 [==============================] - 86s 2ms/sample - loss: 0.6581 - acc: 0.7790 - val_loss: 0.6773 - val_acc: 0.7704\n",
      "Epoch 37/50\n",
      "50000/50000 [==============================] - 86s 2ms/sample - loss: 0.6551 - acc: 0.7791 - val_loss: 0.7183 - val_acc: 0.7632\n",
      "Epoch 38/50\n",
      "50000/50000 [==============================] - 86s 2ms/sample - loss: 0.6526 - acc: 0.7789 - val_loss: 0.6519 - val_acc: 0.7801\n",
      "Epoch 39/50\n",
      "50000/50000 [==============================] - 85s 2ms/sample - loss: 0.6535 - acc: 0.7796 - val_loss: 0.6786 - val_acc: 0.7786\n",
      "Epoch 40/50\n",
      "50000/50000 [==============================] - 85s 2ms/sample - loss: 0.6509 - acc: 0.7811 - val_loss: 0.6508 - val_acc: 0.7807\n",
      "Epoch 41/50\n",
      "50000/50000 [==============================] - 85s 2ms/sample - loss: 0.6469 - acc: 0.7829 - val_loss: 0.6621 - val_acc: 0.7823\n",
      "Epoch 42/50\n",
      "50000/50000 [==============================] - 87s 2ms/sample - loss: 0.6415 - acc: 0.7835 - val_loss: 0.6790 - val_acc: 0.7743\n",
      "Epoch 43/50\n",
      "50000/50000 [==============================] - 85s 2ms/sample - loss: 0.6396 - acc: 0.7846 - val_loss: 0.6387 - val_acc: 0.7877\n",
      "Epoch 44/50\n",
      "50000/50000 [==============================] - 87s 2ms/sample - loss: 0.6428 - acc: 0.7849 - val_loss: 0.6545 - val_acc: 0.7823\n",
      "Epoch 45/50\n",
      "50000/50000 [==============================] - 86s 2ms/sample - loss: 0.6385 - acc: 0.7858 - val_loss: 0.6399 - val_acc: 0.7810\n",
      "Epoch 46/50\n",
      "50000/50000 [==============================] - 85s 2ms/sample - loss: 0.6383 - acc: 0.7873 - val_loss: 0.6457 - val_acc: 0.7851\n",
      "Epoch 47/50\n",
      "50000/50000 [==============================] - 86s 2ms/sample - loss: 0.6332 - acc: 0.7866 - val_loss: 0.6692 - val_acc: 0.7767\n",
      "Epoch 48/50\n",
      "50000/50000 [==============================] - 84s 2ms/sample - loss: 0.6317 - acc: 0.7889 - val_loss: 0.7122 - val_acc: 0.7803\n",
      "Epoch 49/50\n",
      "50000/50000 [==============================] - 85s 2ms/sample - loss: 0.6339 - acc: 0.7912 - val_loss: 0.6497 - val_acc: 0.7868\n",
      "Epoch 50/50\n",
      "50000/50000 [==============================] - 85s 2ms/sample - loss: 0.6272 - acc: 0.7905 - val_loss: 0.6651 - val_acc: 0.7785\n"
     ]
    }
   ],
   "source": [
    "# Let's train the model using RMSprop\n",
    "model.compile(loss='categorical_crossentropy',\n",
    "              optimizer=opt,\n",
    "              metrics=['accuracy'])\n",
    "\n",
    "x_train = x_train.astype('float32')\n",
    "x_test = x_test.astype('float32')\n",
    "x_train /= 255\n",
    "x_test /= 255\n",
    "\n",
    "historyFull = model.fit(x_train, y_train, batch_size=batch_size, epochs=epochs, validation_data=(x_test, y_test), shuffle=True)"
   ]
  },
  {
   "cell_type": "code",
   "execution_count": 9,
   "metadata": {},
   "outputs": [
    {
     "name": "stdout",
     "output_type": "stream",
     "text": [
      "dict_keys(['loss', 'acc', 'val_loss', 'val_acc'])\n"
     ]
    },
    {
     "data": {
      "image/png": "[encoded data removed]",
      "text/plain": [
       "<Figure size 432x288 with 1 Axes>"
      ]
     },
     "metadata": {},
     "output_type": "display_data"
    },
    {
     "data": {
      "image/png": "[encoded data removed]",
      "text/plain": [
       "<Figure size 432x288 with 1 Axes>"
      ]
     },
     "metadata": {},
     "output_type": "display_data"
    }
   ],
   "source": [
    "# list all data in history\n",
    "print(historyFull.history.keys())\n",
    "\n",
    "# summarize history for accuracy\n",
    "plt.plot(historyFull.history['acc'])\n",
    "plt.plot(historyFull.history['val_acc'])\n",
    "plt.title('model accuracy')\n",
    "plt.ylabel('accuracy')\n",
    "plt.xlabel('epoch')\n",
    "plt.legend(['train', 'test'], loc='upper left')\n",
    "plt.show()\n",
    "\n",
    "# summarize history for loss\n",
    "plt.plot(historyFull.history['loss'])\n",
    "plt.plot(historyFull.history['val_loss'])\n",
    "plt.title('model loss')\n",
    "plt.ylabel('loss')\n",
    "plt.xlabel('epoch')\n",
    "plt.legend(['train', 'test'], loc='upper left')\n",
    "plt.show()"
   ]
  },
  {
   "cell_type": "markdown",
   "metadata": {},
   "source": [
    "# Training for subset"
   ]
  },
  {
   "cell_type": "code",
   "execution_count": 16,
   "metadata": {},
   "outputs": [],
   "source": [
    "undersample_path = './Data/UnderSamples/'"
   ]
  },
  {
   "cell_type": "code",
   "execution_count": 15,
   "metadata": {},
   "outputs": [
    {
     "ename": "FileNotFoundError",
     "evalue": "[Errno 2] No such file or directory: './Data/UnderSamples/X0Prop0.1.npy'",
     "traceback": [
      "\u001b[0;31m---------------------------------------------------------------------------\u001b[0m",
      "\u001b[0;31mFileNotFoundError\u001b[0m                         Traceback (most recent call last)",
      "\u001b[0;32m<ipython-input-15-0fbc1d7ac60b>\u001b[0m in \u001b[0;36m<module>\u001b[0;34m()\u001b[0m\n\u001b[0;32m----> 1\u001b[0;31m \u001b[0mx_train_sub\u001b[0m \u001b[0;34m=\u001b[0m \u001b[0mnp\u001b[0m\u001b[0;34m.\u001b[0m\u001b[0mload\u001b[0m\u001b[0;34m(\u001b[0m\u001b[0mundersample_path\u001b[0m \u001b[0;34m+\u001b[0m \u001b[0;34m'X0Prop0.1.npy'\u001b[0m\u001b[0;34m)\u001b[0m\u001b[0;34m\u001b[0m\u001b[0m\n\u001b[0m\u001b[1;32m      2\u001b[0m \u001b[0my_train_sub\u001b[0m \u001b[0;34m=\u001b[0m \u001b[0mnp\u001b[0m\u001b[0;34m.\u001b[0m\u001b[0mload\u001b[0m\u001b[0;34m(\u001b[0m\u001b[0mundersample_path\u001b[0m \u001b[0;34m+\u001b[0m \u001b[0;34m'Y0Prop0.1.npy'\u001b[0m\u001b[0;34m)\u001b[0m\u001b[0;34m\u001b[0m\u001b[0m\n\u001b[1;32m      3\u001b[0m \u001b[0mprint\u001b[0m\u001b[0;34m(\u001b[0m\u001b[0;34m'x_train_sub shape:'\u001b[0m\u001b[0;34m,\u001b[0m \u001b[0mx_train_sub\u001b[0m\u001b[0;34m.\u001b[0m\u001b[0mshape\u001b[0m\u001b[0;34m)\u001b[0m\u001b[0;34m\u001b[0m\u001b[0m\n\u001b[1;32m      4\u001b[0m \u001b[0mprint\u001b[0m\u001b[0;34m(\u001b[0m\u001b[0mx_train_sub\u001b[0m\u001b[0;34m.\u001b[0m\u001b[0mshape\u001b[0m\u001b[0;34m[\u001b[0m\u001b[0;36m0\u001b[0m\u001b[0;34m]\u001b[0m\u001b[0;34m,\u001b[0m \u001b[0;34m'train samples'\u001b[0m\u001b[0;34m)\u001b[0m\u001b[0;34m\u001b[0m\u001b[0m\n\u001b[1;32m      5\u001b[0m \u001b[0;34m\u001b[0m\u001b[0m\n",
      "\u001b[0;32m~/anaconda3/envs/tensorflow_p36/lib/python3.6/site-packages/numpy/lib/npyio.py\u001b[0m in \u001b[0;36mload\u001b[0;34m(file, mmap_mode, allow_pickle, fix_imports, encoding)\u001b[0m\n\u001b[1;32m    420\u001b[0m         \u001b[0mown_fid\u001b[0m \u001b[0;34m=\u001b[0m \u001b[0;32mFalse\u001b[0m\u001b[0;34m\u001b[0m\u001b[0m\n\u001b[1;32m    421\u001b[0m     \u001b[0;32melse\u001b[0m\u001b[0;34m:\u001b[0m\u001b[0;34m\u001b[0m\u001b[0m\n\u001b[0;32m--> 422\u001b[0;31m         \u001b[0mfid\u001b[0m \u001b[0;34m=\u001b[0m \u001b[0mopen\u001b[0m\u001b[0;34m(\u001b[0m\u001b[0mos_fspath\u001b[0m\u001b[0;34m(\u001b[0m\u001b[0mfile\u001b[0m\u001b[0;34m)\u001b[0m\u001b[0;34m,\u001b[0m \u001b[0;34m\"rb\"\u001b[0m\u001b[0;34m)\u001b[0m\u001b[0;34m\u001b[0m\u001b[0m\n\u001b[0m\u001b[1;32m    423\u001b[0m         \u001b[0mown_fid\u001b[0m \u001b[0;34m=\u001b[0m \u001b[0;32mTrue\u001b[0m\u001b[0;34m\u001b[0m\u001b[0m\n\u001b[1;32m    424\u001b[0m \u001b[0;34m\u001b[0m\u001b[0m\n",
      "\u001b[0;31mFileNotFoundError\u001b[0m: [Errno 2] No such file or directory: './Data/UnderSamples/X0Prop0.1.npy'"
     ],
     "output_type": "error"
    }
   ],
   "source": [
    "x_train_sub = np.load(undersample_path + 'X0Prop0.1.npy')\n",
    "y_train_sub = np.load(undersample_path + 'Y0Prop0.1.npy')\n",
    "print('x_train_sub shape:', x_train_sub.shape)\n",
    "print(x_train_sub.shape[0], 'train samples')\n",
    "\n",
    "#Convert class vectors to binary class matrices.\n",
    "y_train_sub = keras.utils.to_categorical(y_train_sub, num_classes)"
   ]
  },
  {
   "cell_type": "code",
   "execution_count": null,
   "metadata": {},
   "outputs": [],
   "source": [
    "model.compile(loss='categorical_crossentropy',\n",
    "              optimizer=opt,\n",
    "              metrics=['accuracy'])\n",
    "\n",
    "x_train_sub = x_train_sub.astype('float32')\n",
    "x_train_sub /= 255\n",
    "\n",
    "historySub = model.fit(x_train_sub, y_train_sub, batch_size=batch_size, epochs=epochs, validation_data=(x_test, y_test), shuffle=True)"
   ]
  },
  {
   "cell_type": "code",
   "execution_count": null,
   "metadata": {},
   "outputs": [],
   "source": [
    "# list all data in history\n",
    "print(historySub.history.keys())\n",
    "# summarize history for accuracy\n",
    "plt.plot(historySub.history['accuracy'])\n",
    "plt.plot(historySub.history['val_accuracy'])\n",
    "plt.title('model accuracy')\n",
    "plt.ylabel('accuracy')\n",
    "plt.xlabel('epoch')\n",
    "plt.legend(['train', 'test'], loc='upper left')\n",
    "plt.show()\n",
    "# summarize history for loss\n",
    "plt.plot(historySub.history['loss'])\n",
    "plt.plot(historySub.history['val_loss'])\n",
    "plt.title('model loss')\n",
    "plt.ylabel('loss')\n",
    "plt.xlabel('epoch')\n",
    "plt.legend(['train', 'test'], loc='upper left')\n",
    "plt.show()"
   ]
  },
  {
   "cell_type": "code",
   "execution_count": null,
   "metadata": {},
   "outputs": [],
   "source": []
  }
 ],
 "metadata": {
  "kernelspec": {
   "display_name": "conda_tensorflow_p36",
   "language": "python",
   "name": "conda_tensorflow_p36"
  },
  "language_info": {
   "codemirror_mode": {
    "name": "ipython",
    "version": 3
   },
   "file_extension": ".py",
   "mimetype": "text/x-python",
   "name": "python",
   "nbconvert_exporter": "python",
   "pygments_lexer": "ipython3",
   "version": "3.6.5"
  }
 },
 "nbformat": 4,
 "nbformat_minor": 2
}
